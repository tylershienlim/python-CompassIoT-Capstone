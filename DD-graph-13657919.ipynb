{
 "cells": [
  {
   "cell_type": "code",
   "execution_count": 39,
   "metadata": {},
   "outputs": [],
   "source": [
    "import pandas as pd\n",
    "import numpy as np\n",
    "import geopandas as gpd\n",
    "import networkx as nx\n",
    "import matplotlib.pyplot as plt\n",
    "from math import radians, cos, sin, asin, sqrt"
   ]
  },
  {
   "cell_type": "code",
   "execution_count": 3,
   "metadata": {},
   "outputs": [],
   "source": [
    "ddb_roundabout = gpd.read_file('./data/ddb_roundabout.geojson')"
   ]
  },
  {
   "cell_type": "code",
   "execution_count": 7,
   "metadata": {},
   "outputs": [
    {
     "data": {
      "text/html": [
       "<div>\n",
       "<style scoped>\n",
       "    .dataframe tbody tr th:only-of-type {\n",
       "        vertical-align: middle;\n",
       "    }\n",
       "\n",
       "    .dataframe tbody tr th {\n",
       "        vertical-align: top;\n",
       "    }\n",
       "\n",
       "    .dataframe thead th {\n",
       "        text-align: right;\n",
       "    }\n",
       "</style>\n",
       "<table border=\"1\" class=\"dataframe\">\n",
       "  <thead>\n",
       "    <tr style=\"text-align: right;\">\n",
       "      <th></th>\n",
       "      <th>timestamp</th>\n",
       "      <th>xacc</th>\n",
       "      <th>yacc</th>\n",
       "      <th>speed</th>\n",
       "      <th>maxspeed</th>\n",
       "      <th>lanecount</th>\n",
       "      <th>classification</th>\n",
       "      <th>index_right</th>\n",
       "      <th>distances</th>\n",
       "      <th>geometry</th>\n",
       "    </tr>\n",
       "  </thead>\n",
       "  <tbody>\n",
       "    <tr>\n",
       "      <th>0</th>\n",
       "      <td>2020-12-17 01:46:30+00:00</td>\n",
       "      <td>-0.889</td>\n",
       "      <td>0.002</td>\n",
       "      <td>7</td>\n",
       "      <td>32</td>\n",
       "      <td>1</td>\n",
       "      <td>Braking</td>\n",
       "      <td>402.0</td>\n",
       "      <td>78.508285</td>\n",
       "      <td>POINT (16595825.835 -4208110.694)</td>\n",
       "    </tr>\n",
       "    <tr>\n",
       "      <th>1</th>\n",
       "      <td>2020-07-05 23:53:50+00:00</td>\n",
       "      <td>-0.864</td>\n",
       "      <td>0.000</td>\n",
       "      <td>3</td>\n",
       "      <td>48</td>\n",
       "      <td>1</td>\n",
       "      <td>Braking</td>\n",
       "      <td>70.0</td>\n",
       "      <td>27.548220</td>\n",
       "      <td>POINT (16597539.710 -4206559.210)</td>\n",
       "    </tr>\n",
       "    <tr>\n",
       "      <th>2</th>\n",
       "      <td>2020-07-05 23:53:50+00:00</td>\n",
       "      <td>-0.864</td>\n",
       "      <td>0.000</td>\n",
       "      <td>3</td>\n",
       "      <td>48</td>\n",
       "      <td>1</td>\n",
       "      <td>Braking</td>\n",
       "      <td>903.0</td>\n",
       "      <td>27.548220</td>\n",
       "      <td>POINT (16597539.710 -4206559.210)</td>\n",
       "    </tr>\n",
       "    <tr>\n",
       "      <th>3</th>\n",
       "      <td>2020-04-25 19:27:59+00:00</td>\n",
       "      <td>-0.346</td>\n",
       "      <td>0.714</td>\n",
       "      <td>27</td>\n",
       "      <td>45</td>\n",
       "      <td>1</td>\n",
       "      <td>Steering</td>\n",
       "      <td>70.0</td>\n",
       "      <td>4.927812</td>\n",
       "      <td>POINT (16597536.370 -4206536.837)</td>\n",
       "    </tr>\n",
       "    <tr>\n",
       "      <th>4</th>\n",
       "      <td>2020-04-25 19:27:59+00:00</td>\n",
       "      <td>-0.346</td>\n",
       "      <td>0.714</td>\n",
       "      <td>27</td>\n",
       "      <td>45</td>\n",
       "      <td>1</td>\n",
       "      <td>Steering</td>\n",
       "      <td>903.0</td>\n",
       "      <td>4.927812</td>\n",
       "      <td>POINT (16597536.370 -4206536.837)</td>\n",
       "    </tr>\n",
       "  </tbody>\n",
       "</table>\n",
       "</div>"
      ],
      "text/plain": [
       "                  timestamp   xacc   yacc  speed  maxspeed  lanecount  \\\n",
       "0 2020-12-17 01:46:30+00:00 -0.889  0.002      7        32          1   \n",
       "1 2020-07-05 23:53:50+00:00 -0.864  0.000      3        48          1   \n",
       "2 2020-07-05 23:53:50+00:00 -0.864  0.000      3        48          1   \n",
       "3 2020-04-25 19:27:59+00:00 -0.346  0.714     27        45          1   \n",
       "4 2020-04-25 19:27:59+00:00 -0.346  0.714     27        45          1   \n",
       "\n",
       "  classification  index_right  distances                           geometry  \n",
       "0        Braking        402.0  78.508285  POINT (16595825.835 -4208110.694)  \n",
       "1        Braking         70.0  27.548220  POINT (16597539.710 -4206559.210)  \n",
       "2        Braking        903.0  27.548220  POINT (16597539.710 -4206559.210)  \n",
       "3       Steering         70.0   4.927812  POINT (16597536.370 -4206536.837)  \n",
       "4       Steering        903.0   4.927812  POINT (16597536.370 -4206536.837)  "
      ]
     },
     "execution_count": 7,
     "metadata": {},
     "output_type": "execute_result"
    }
   ],
   "source": [
    "ddb_roundabout.head()"
   ]
  },
  {
   "cell_type": "code",
   "execution_count": 5,
   "metadata": {},
   "outputs": [],
   "source": [
    "crash_roundabout = gpd.read_file('./data/crash_roundabout.geojson')"
   ]
  },
  {
   "cell_type": "code",
   "execution_count": 8,
   "metadata": {},
   "outputs": [
    {
     "data": {
      "text/html": [
       "<div>\n",
       "<style scoped>\n",
       "    .dataframe tbody tr th:only-of-type {\n",
       "        vertical-align: middle;\n",
       "    }\n",
       "\n",
       "    .dataframe tbody tr th {\n",
       "        vertical-align: top;\n",
       "    }\n",
       "\n",
       "    .dataframe thead th {\n",
       "        text-align: right;\n",
       "    }\n",
       "</style>\n",
       "<table border=\"1\" class=\"dataframe\">\n",
       "  <thead>\n",
       "    <tr style=\"text-align: right;\">\n",
       "      <th></th>\n",
       "      <th>CRASH_DATE</th>\n",
       "      <th>CRASH_TIME</th>\n",
       "      <th>SUBURB_LOCATION</th>\n",
       "      <th>LONGITUDE</th>\n",
       "      <th>LATITUDE</th>\n",
       "      <th>INTERSECTION</th>\n",
       "      <th>MIDBLOCK</th>\n",
       "      <th>CRASH_DIRECTION</th>\n",
       "      <th>CRASH_SEVERITY</th>\n",
       "      <th>LIGHTING_CONDITION</th>\n",
       "      <th>ROAD_CONDITION</th>\n",
       "      <th>WEATHER_CONDITION</th>\n",
       "      <th>Location</th>\n",
       "      <th>index_right</th>\n",
       "      <th>distances</th>\n",
       "      <th>geometry</th>\n",
       "    </tr>\n",
       "  </thead>\n",
       "  <tbody>\n",
       "    <tr>\n",
       "      <th>0</th>\n",
       "      <td>14/03/2014</td>\n",
       "      <td>14:45:00</td>\n",
       "      <td>WANNIASSA</td>\n",
       "      <td>149.105038</td>\n",
       "      <td>-35.394988</td>\n",
       "      <td>YES</td>\n",
       "      <td>NO</td>\n",
       "      <td>North bound</td>\n",
       "      <td>Property Damage Only</td>\n",
       "      <td>Daylight</td>\n",
       "      <td>Good dry surface</td>\n",
       "      <td>Fine</td>\n",
       "      <td>(-35.394987516718835, 149.1050382804053)</td>\n",
       "      <td>124.0</td>\n",
       "      <td>54.232167</td>\n",
       "      <td>POINT (16598296.938 -4217688.770)</td>\n",
       "    </tr>\n",
       "    <tr>\n",
       "      <th>1</th>\n",
       "      <td>25/09/2013</td>\n",
       "      <td>09:15:00</td>\n",
       "      <td>PARKES</td>\n",
       "      <td>149.140739</td>\n",
       "      <td>-35.290364</td>\n",
       "      <td>YES</td>\n",
       "      <td>NO</td>\n",
       "      <td>South bound</td>\n",
       "      <td>Injury</td>\n",
       "      <td>Daylight</td>\n",
       "      <td>Good dry surface</td>\n",
       "      <td>Fine</td>\n",
       "      <td>(-35.2903638694626, 149.14073893625283)</td>\n",
       "      <td>598.0</td>\n",
       "      <td>18.107638</td>\n",
       "      <td>POINT (16602271.111 -4203410.781)</td>\n",
       "    </tr>\n",
       "    <tr>\n",
       "      <th>2</th>\n",
       "      <td>21/10/2014</td>\n",
       "      <td>12:50:00</td>\n",
       "      <td>WESTON</td>\n",
       "      <td>149.052234</td>\n",
       "      <td>-35.342376</td>\n",
       "      <td>YES</td>\n",
       "      <td>NO</td>\n",
       "      <td>South / West bound</td>\n",
       "      <td>Injury</td>\n",
       "      <td>Daylight</td>\n",
       "      <td>Good dry surface</td>\n",
       "      <td>Fine</td>\n",
       "      <td>(-35.342376051736125, 149.05223439721874)</td>\n",
       "      <td>109.0</td>\n",
       "      <td>52.375484</td>\n",
       "      <td>POINT (16592418.835 -4210506.572)</td>\n",
       "    </tr>\n",
       "    <tr>\n",
       "      <th>3</th>\n",
       "      <td>18/12/2014</td>\n",
       "      <td>15:00:00</td>\n",
       "      <td>CURTIN</td>\n",
       "      <td>149.085469</td>\n",
       "      <td>-35.336601</td>\n",
       "      <td>YES</td>\n",
       "      <td>NO</td>\n",
       "      <td>North bound</td>\n",
       "      <td>Property Damage Only</td>\n",
       "      <td>Daylight</td>\n",
       "      <td>Good dry surface</td>\n",
       "      <td>Fine</td>\n",
       "      <td>(-35.33660063969841, 149.08546898336647)</td>\n",
       "      <td>302.0</td>\n",
       "      <td>37.911366</td>\n",
       "      <td>POINT (16596118.494 -4209718.433)</td>\n",
       "    </tr>\n",
       "    <tr>\n",
       "      <th>4</th>\n",
       "      <td>04/08/2015</td>\n",
       "      <td>07:10:00</td>\n",
       "      <td>CURTIN</td>\n",
       "      <td>149.085534</td>\n",
       "      <td>-35.336096</td>\n",
       "      <td>YES</td>\n",
       "      <td>NO</td>\n",
       "      <td>North / East bound</td>\n",
       "      <td>Injury</td>\n",
       "      <td>Daylight</td>\n",
       "      <td>Good dry surface</td>\n",
       "      <td>Fine</td>\n",
       "      <td>(-35.336095898518856, 149.0855345007159)</td>\n",
       "      <td>302.0</td>\n",
       "      <td>1.119271</td>\n",
       "      <td>POINT (16596125.785 -4209649.556)</td>\n",
       "    </tr>\n",
       "  </tbody>\n",
       "</table>\n",
       "</div>"
      ],
      "text/plain": [
       "   CRASH_DATE CRASH_TIME SUBURB_LOCATION   LONGITUDE   LATITUDE INTERSECTION  \\\n",
       "0  14/03/2014   14:45:00       WANNIASSA  149.105038 -35.394988          YES   \n",
       "1  25/09/2013   09:15:00          PARKES  149.140739 -35.290364          YES   \n",
       "2  21/10/2014   12:50:00          WESTON  149.052234 -35.342376          YES   \n",
       "3  18/12/2014   15:00:00          CURTIN  149.085469 -35.336601          YES   \n",
       "4  04/08/2015   07:10:00          CURTIN  149.085534 -35.336096          YES   \n",
       "\n",
       "  MIDBLOCK     CRASH_DIRECTION        CRASH_SEVERITY LIGHTING_CONDITION  \\\n",
       "0       NO         North bound  Property Damage Only           Daylight   \n",
       "1       NO         South bound                Injury           Daylight   \n",
       "2       NO  South / West bound                Injury           Daylight   \n",
       "3       NO         North bound  Property Damage Only           Daylight   \n",
       "4       NO  North / East bound                Injury           Daylight   \n",
       "\n",
       "     ROAD_CONDITION WEATHER_CONDITION  \\\n",
       "0  Good dry surface              Fine   \n",
       "1  Good dry surface              Fine   \n",
       "2  Good dry surface              Fine   \n",
       "3  Good dry surface              Fine   \n",
       "4  Good dry surface              Fine   \n",
       "\n",
       "                                    Location  index_right  distances  \\\n",
       "0   (-35.394987516718835, 149.1050382804053)        124.0  54.232167   \n",
       "1    (-35.2903638694626, 149.14073893625283)        598.0  18.107638   \n",
       "2  (-35.342376051736125, 149.05223439721874)        109.0  52.375484   \n",
       "3   (-35.33660063969841, 149.08546898336647)        302.0  37.911366   \n",
       "4   (-35.336095898518856, 149.0855345007159)        302.0   1.119271   \n",
       "\n",
       "                            geometry  \n",
       "0  POINT (16598296.938 -4217688.770)  \n",
       "1  POINT (16602271.111 -4203410.781)  \n",
       "2  POINT (16592418.835 -4210506.572)  \n",
       "3  POINT (16596118.494 -4209718.433)  \n",
       "4  POINT (16596125.785 -4209649.556)  "
      ]
     },
     "execution_count": 8,
     "metadata": {},
     "output_type": "execute_result"
    }
   ],
   "source": [
    "crash_roundabout.head()"
   ]
  },
  {
   "cell_type": "code",
   "execution_count": 35,
   "metadata": {},
   "outputs": [],
   "source": [
    "def check_graph(nxgraph):\n",
    "    # Check if the graph has any nodes.\n",
    "    print(\"Graph nodes:\")\n",
    "    if nxgraph.number_of_nodes() > 0:\n",
    "        print(\"The graph has nodes.\")\n",
    "    else:\n",
    "        print(\"The graph does not have any nodes.\")\n",
    "    # Check if the graph has any edges.\n",
    "    print(\"\\nGraph edges:\")\n",
    "    if nxgraph.number_of_edges() > 0:\n",
    "        print(\"The graph has edges.\")\n",
    "    else:\n",
    "        print(\"The graph does not have any edges.\")\n",
    "    # Check if the graph is connected.\n",
    "    print(\"\\nGraph connection:\")\n",
    "    if nx.is_connected(nxgraph):\n",
    "        print(\"The graph is connected.\")\n",
    "    else:\n",
    "        print(\"The graph is disconnected.\")\n",
    "        "
   ]
  },
  {
   "cell_type": "markdown",
   "metadata": {},
   "source": [
    "Graph Construction DDB Option 1"
   ]
  },
  {
   "cell_type": "code",
   "execution_count": 9,
   "metadata": {},
   "outputs": [],
   "source": [
    "#Create empty graph\n",
    "G = nx.Graph()"
   ]
  },
  {
   "cell_type": "code",
   "execution_count": 10,
   "metadata": {},
   "outputs": [
    {
     "name": "stdout",
     "output_type": "stream",
     "text": [
      "Minimum x-acceleration: inf\n",
      "Maximum x-acceleration: -1\n",
      "Minimum y-acceleration: inf\n",
      "Maximum y-acceleration: -1\n"
     ]
    }
   ],
   "source": [
    "# Calculate the minimum and maximum x-acceleration and y-acceleration values\n",
    "max_x, min_x, max_y, min_y = -1, float('inf'), -1, float('inf')\n",
    "print(f\"Minimum x-acceleration: {min_x}\")\n",
    "print(f\"Maximum x-acceleration: {max_x}\")\n",
    "print(f\"Minimum y-acceleration: {min_y}\")\n",
    "print(f\"Maximum y-acceleration: {max_y}\")"
   ]
  },
  {
   "cell_type": "code",
   "execution_count": 11,
   "metadata": {},
   "outputs": [],
   "source": [
    "#iterate ddb roundabout dataset for nodes and metric\n",
    "for index, row in ddb_roundabout.iterrows():\n",
    "    # Calculate the minimum and maximum x-acceleration and y-acceleration values\n",
    "    max_x = max(max_x, row['xacc'])\n",
    "    min_x = min(min_x, row['xacc'])\n",
    "    max_y = max(max_y, row['yacc'])\n",
    "    min_y = min(min_y, row['yacc'])\n",
    "\n",
    "    #add nodes to graph\n",
    "    location = row['geometry']\n",
    "    x_acc = row['xacc']\n",
    "    y_acc = row['yacc']\n",
    "\n",
    "    G.add_node(location) \n",
    "    G.nodes[location]['xacc'] = x_acc\n",
    "    G.nodes[location]['yacc'] = y_acc"
   ]
  },
  {
   "cell_type": "code",
   "execution_count": 12,
   "metadata": {},
   "outputs": [
    {
     "data": {
      "text/plain": [
       "<networkx.classes.graph.Graph at 0x20a5f774f10>"
      ]
     },
     "execution_count": 12,
     "metadata": {},
     "output_type": "execute_result"
    }
   ],
   "source": [
    "G"
   ]
  },
  {
   "cell_type": "code",
   "execution_count": 13,
   "metadata": {},
   "outputs": [
    {
     "name": "stdout",
     "output_type": "stream",
     "text": [
      "Minimum x-acceleration: -1.962\n",
      "Maximum x-acceleration: 1.116\n",
      "Minimum y-acceleration: -1.096\n",
      "Maximum y-acceleration: 0.957\n"
     ]
    }
   ],
   "source": [
    "print(f\"Minimum x-acceleration: {min_x}\")\n",
    "print(f\"Maximum x-acceleration: {max_x}\")\n",
    "print(f\"Minimum y-acceleration: {min_y}\")\n",
    "print(f\"Maximum y-acceleration: {max_y}\")"
   ]
  },
  {
   "cell_type": "code",
   "execution_count": 14,
   "metadata": {},
   "outputs": [],
   "source": [
    "#Similarity Metric\n",
    "def calculate_similarity(node1, node2, max_x, min_x, max_y, min_y):\n",
    "    # Extract feature values from nodes (locations)\n",
    "    x1 = G.nodes[node1]['xacc']\n",
    "    y1 = G.nodes[node1]['yacc']\n",
    "    \n",
    "    x2 = G.nodes[node2]['xacc']\n",
    "    y2 = G.nodes[node2]['yacc']\n",
    "    \n",
    "    # Calculate Euclidean distance between feature vectors\n",
    "    euclidean_distance = np.sqrt((x1 - x2)**2 + (y1 - y2)**2)\n",
    "    \n",
    "    # Normalize the distance to a similarity score (higher values indicate more similarity)\n",
    "    max_possible_distance = np.sqrt((max_x - min_x)**2 + (max_y - min_y)**2)  # Adjust as needed\n",
    "    similarity_score = 1 - (euclidean_distance / max_possible_distance)\n",
    "    \n",
    "    return similarity_score"
   ]
  },
  {
   "cell_type": "code",
   "execution_count": 17,
   "metadata": {},
   "outputs": [],
   "source": [
    "#add edges to nodes based on similarity metric\n",
    "#iterate through nodes to create edges based on similarity\n",
    "for node1 in G.nodes():\n",
    "    for node2 in G.nodes():\n",
    "        if node1 != node2:\n",
    "            # Calculate similarity\n",
    "            similarity_score = calculate_similarity(node1, node2, max_x, min_x, max_y, min_y)\n",
    "            \n",
    "            #threshold for considering edges\n",
    "            threshold = 0.7\n",
    "\n",
    "            # Add edge based on similarity\n",
    "            if similarity_score > threshold:\n",
    "                G.add_edge(node1, node2, similarity=similarity_score)"
   ]
  },
  {
   "cell_type": "code",
   "execution_count": 36,
   "metadata": {},
   "outputs": [
    {
     "name": "stdout",
     "output_type": "stream",
     "text": [
      "Graph nodes:\n",
      "The graph has nodes.\n",
      "\n",
      "Graph edges:\n",
      "The graph has edges.\n",
      "\n",
      "Graph connection:\n",
      "The graph is connected.\n"
     ]
    }
   ],
   "source": [
    "check_graph(G)"
   ]
  },
  {
   "cell_type": "code",
   "execution_count": 20,
   "metadata": {},
   "outputs": [
    {
     "data": {
      "image/png": "[encoded data removed]",
      "text/plain": [
       "<Figure size 640x480 with 1 Axes>"
      ]
     },
     "metadata": {},
     "output_type": "display_data"
    }
   ],
   "source": [
    "#Visualize Graph\n",
    "# Create a layout for the nodes\n",
    "pos = nx.spring_layout(G)\n",
    "\n",
    "# Draw nodes\n",
    "nx.draw_networkx_nodes(G, pos, node_color='skyblue', node_size=50)\n",
    "\n",
    "# Draw edges\n",
    "nx.draw_networkx_edges(G, pos, edge_color='gray')\n",
    "\n",
    "# Label nodes with their location (you can customize labels as needed)\n",
    "#labels = {node: node for node in G.nodes()}\n",
    "#nx.draw_networkx_labels(G, pos, labels, font_size=8)\n",
    "\n",
    "# Set plot options\n",
    "plt.title(\"Graph of Dangerous Driving Behavior at Roundabouts\")\n",
    "plt.axis('off')\n",
    "\n",
    "# Show the plot\n",
    "plt.show()"
   ]
  },
  {
   "cell_type": "markdown",
   "metadata": {},
   "source": [
    "Graph Construction DDB Option 1 B"
   ]
  },
  {
   "cell_type": "code",
   "execution_count": 41,
   "metadata": {},
   "outputs": [],
   "source": [
    "#new graph for option 1B\n",
    "GB = nx.Graph()"
   ]
  },
  {
   "cell_type": "code",
   "execution_count": 42,
   "metadata": {},
   "outputs": [],
   "source": [
    "#iterate ddb roundabout dataset for nodes and metric\n",
    "for index, row in ddb_roundabout.iterrows():\n",
    "    # Calculate the minimum and maximum x-acceleration and y-acceleration values\n",
    "    max_x = max(max_x, row['xacc'])\n",
    "    min_x = min(min_x, row['xacc'])\n",
    "    max_y = max(max_y, row['yacc'])\n",
    "    min_y = min(min_y, row['yacc'])\n",
    "\n",
    "    #add nodes to graph\n",
    "    location = row['geometry']\n",
    "    x_acc = row['xacc']\n",
    "    y_acc = row['yacc']\n",
    "\n",
    "    GB.add_node(location) \n",
    "    GB.nodes[location]['xacc'] = x_acc\n",
    "    GB.nodes[location]['yacc'] = y_acc"
   ]
  },
  {
   "cell_type": "code",
   "execution_count": 52,
   "metadata": {},
   "outputs": [],
   "source": [
    "#Jaccard coefficient between all nodes in a graph for similarity\n",
    "GB_node_similarity = nx.jaccard_coefficient(GB)"
   ]
  },
  {
   "cell_type": "code",
   "execution_count": null,
   "metadata": {},
   "outputs": [],
   "source": [
    "#Group similar nodes\n",
    "clustered_nodes = nx."
   ]
  },
  {
   "cell_type": "code",
   "execution_count": null,
   "metadata": {},
   "outputs": [],
   "source": [
    "#New nodes based on grouped nodes\n",
    "group_nodes = []"
   ]
  },
  {
   "cell_type": "markdown",
   "metadata": {},
   "source": [
    "Graph Construction DDB Option 2"
   ]
  },
  {
   "cell_type": "code",
   "execution_count": 21,
   "metadata": {},
   "outputs": [],
   "source": [
    "#Create empty graph\n",
    "G2 = nx.Graph()"
   ]
  },
  {
   "cell_type": "code",
   "execution_count": 22,
   "metadata": {},
   "outputs": [
    {
     "name": "stdout",
     "output_type": "stream",
     "text": [
      "Minimum x-acceleration: inf\n",
      "Maximum x-acceleration: -1\n",
      "Minimum y-acceleration: inf\n",
      "Maximum y-acceleration: -1\n"
     ]
    }
   ],
   "source": [
    "# Calculate the minimum and maximum x-acceleration and y-acceleration values\n",
    "max_x, min_x, max_y, min_y = -1, float('inf'), -1, float('inf')\n",
    "print(f\"Minimum x-acceleration: {min_x}\")\n",
    "print(f\"Maximum x-acceleration: {max_x}\")\n",
    "print(f\"Minimum y-acceleration: {min_y}\")\n",
    "print(f\"Maximum y-acceleration: {max_y}\")"
   ]
  },
  {
   "cell_type": "code",
   "execution_count": 23,
   "metadata": {},
   "outputs": [],
   "source": [
    "#iterate ddb roundabout dataset for nodes and metric\n",
    "for index, row in ddb_roundabout.iterrows():\n",
    "    # Calculate the minimum and maximum x-acceleration and y-acceleration values\n",
    "    max_x = max(max_x, row['xacc'])\n",
    "    min_x = min(min_x, row['xacc'])\n",
    "    max_y = max(max_y, row['yacc'])\n",
    "    min_y = min(min_y, row['yacc'])\n",
    "\n",
    "    #add nodes to graph\n",
    "    G2.add_node(row['geometry'])"
   ]
  },
  {
   "cell_type": "code",
   "execution_count": 38,
   "metadata": {},
   "outputs": [],
   "source": [
    "#Calculates the distance between two nodes, given their coordinates.\n",
    "#Harvesine formula\n",
    "def calculate_distance(node1, node2, max_x, min_x, max_y, min_y):\n",
    "  # Convert decimal degrees to radians \n",
    "  lon1, lat1, lon2, lat2 = map(radians, [node1.x, node1.y, node2.x, node2.y])\n",
    "\n",
    "  # Calculate the difference in latitude and longitude between the two nodes.\n",
    "  dlon = lon2 - lon1 \n",
    "  dlat = lat2 - lat1\n",
    "\n",
    "  # Calculate the distance between the two nodes using the Haversine formula.\n",
    "  dlon = lon2 - lon1 \n",
    "  dlat = lat2 - lat1 \n",
    "  a = sin(dlat/2)**2 + cos(lat1) * cos(lat2) * sin(dlon/2)**2\n",
    "  c = 2 * asin(sqrt(a))\n",
    "  distance = c * 6371 # distance in metres\n",
    "\n",
    "  max_dist = np.sqrt((max_x - min_x)**2 + (max_y - min_y)**2)  # Adjust as needed\n",
    "\n",
    "  similarity = 1 - (distance / max_dist)\n",
    "\n",
    "  return similarity"
   ]
  },
  {
   "cell_type": "code",
   "execution_count": 25,
   "metadata": {},
   "outputs": [],
   "source": [
    "#edges\n",
    "threshold = 0.7\n",
    "i, j = 0, 0\n",
    "for node_i in G2.nodes:\n",
    "    for node_j in G2.nodes:\n",
    "        if node_i != node_j:\n",
    "            # Calculate the distance between node i and node j.\n",
    "            similarity = calculate_distance(node_i, node_j, max_x, min_x, max_y, min_y)\n",
    "            if similarity < threshold:\n",
    "                G2.add_edge(node_i, node_j)\n",
    "            j += 1\n",
    "    j = 0\n",
    "    i += 1"
   ]
  },
  {
   "cell_type": "code",
   "execution_count": 26,
   "metadata": {},
   "outputs": [
    {
     "data": {
      "text/plain": [
       "<networkx.classes.graph.Graph at 0x20a5ea541c0>"
      ]
     },
     "execution_count": 26,
     "metadata": {},
     "output_type": "execute_result"
    }
   ],
   "source": [
    "G2"
   ]
  },
  {
   "cell_type": "code",
   "execution_count": 37,
   "metadata": {},
   "outputs": [
    {
     "name": "stdout",
     "output_type": "stream",
     "text": [
      "Graph nodes:\n",
      "The graph has nodes.\n",
      "\n",
      "Graph edges:\n",
      "The graph has edges.\n",
      "\n",
      "Graph connection:\n",
      "The graph is connected.\n"
     ]
    }
   ],
   "source": [
    "check_graph(G2)"
   ]
  },
  {
   "cell_type": "code",
   "execution_count": 32,
   "metadata": {},
   "outputs": [
    {
     "data": {
      "image/png": "[encoded data removed]",
      "text/plain": [
       "<Figure size 640x480 with 1 Axes>"
      ]
     },
     "metadata": {},
     "output_type": "display_data"
    }
   ],
   "source": [
    "# Set the node positions using a force-directed layout.\n",
    "pos = nx.spring_layout(G2)\n",
    "\n",
    "# Draw the graph.\n",
    "nx.draw_networkx_nodes(G2, pos=pos, node_color='skyblue', node_size=50)\n",
    "\n",
    "# Draw edges\n",
    "nx.draw_networkx_edges(G2, pos, edge_color='gray')\n",
    "\n",
    "# Set plot options\n",
    "plt.title(\"Graph of Dangerous Driving Behavior at Roundabouts 2\")\n",
    "plt.axis('off')\n",
    "\n",
    "# Show the plot.\n",
    "plt.show()"
   ]
  },
  {
   "cell_type": "markdown",
   "metadata": {},
   "source": [
    "Graph Construction DDB Option 2 B"
   ]
  },
  {
   "cell_type": "code",
   "execution_count": null,
   "metadata": {},
   "outputs": [],
   "source": [
    "#new graph"
   ]
  }
 ],
 "metadata": {
  "kernelspec": {
   "display_name": "Python 3",
   "language": "python",
   "name": "python3"
  },
  "language_info": {
   "codemirror_mode": {
    "name": "ipython",
    "version": 3
   },
   "file_extension": ".py",
   "mimetype": "text/x-python",
   "name": "python",
   "nbconvert_exporter": "python",
   "pygments_lexer": "ipython3",
   "version": "3.10.6"
  },
  "orig_nbformat": 4
 },
 "nbformat": 4,
 "nbformat_minor": 2
}
