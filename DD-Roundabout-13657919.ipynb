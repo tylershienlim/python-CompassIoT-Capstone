{
 "cells": [
  {
   "cell_type": "code",
   "execution_count": 1,
   "metadata": {},
   "outputs": [],
   "source": [
    "import pandas as pd\n",
    "import geopandas as gpd"
   ]
  },
  {
   "cell_type": "code",
   "execution_count": 23,
   "metadata": {},
   "outputs": [],
   "source": [
    "#data sets to load\n",
    "crash_data = gpd.read_file('act_crash_data.geojson')\n",
    "merged_data = gpd.read_file('merged.geojson')"
   ]
  },
  {
   "cell_type": "code",
   "execution_count": 24,
   "metadata": {},
   "outputs": [
    {
     "data": {
      "text/html": [
       "<div>\n",
       "<style scoped>\n",
       "    .dataframe tbody tr th:only-of-type {\n",
       "        vertical-align: middle;\n",
       "    }\n",
       "\n",
       "    .dataframe tbody tr th {\n",
       "        vertical-align: top;\n",
       "    }\n",
       "\n",
       "    .dataframe thead th {\n",
       "        text-align: right;\n",
       "    }\n",
       "</style>\n",
       "<table border=\"1\" class=\"dataframe\">\n",
       "  <thead>\n",
       "    <tr style=\"text-align: right;\">\n",
       "      <th></th>\n",
       "      <th>CRASH_ID</th>\n",
       "      <th>CRASH_DATE</th>\n",
       "      <th>CRASH_TIME</th>\n",
       "      <th>SUBURB_LOCATION</th>\n",
       "      <th>LONGITUDE</th>\n",
       "      <th>LATITUDE</th>\n",
       "      <th>INTERSECTION</th>\n",
       "      <th>MIDBLOCK</th>\n",
       "      <th>CRASH_DIRECTION</th>\n",
       "      <th>CRASH_SEVERITY</th>\n",
       "      <th>LIGHTING_CONDITION</th>\n",
       "      <th>ROAD_CONDITION</th>\n",
       "      <th>WEATHER_CONDITION</th>\n",
       "      <th>Location</th>\n",
       "      <th>geometry</th>\n",
       "    </tr>\n",
       "  </thead>\n",
       "  <tbody>\n",
       "    <tr>\n",
       "      <th>0</th>\n",
       "      <td>1025691</td>\n",
       "      <td>13/01/2012</td>\n",
       "      <td>09:18:00</td>\n",
       "      <td>KAMBAH</td>\n",
       "      <td>149.055056</td>\n",
       "      <td>-35.392007</td>\n",
       "      <td>NO</td>\n",
       "      <td>YES</td>\n",
       "      <td>East bound</td>\n",
       "      <td>Injury</td>\n",
       "      <td>Daylight</td>\n",
       "      <td>Good dry surface</td>\n",
       "      <td>Fine</td>\n",
       "      <td>(-35.392006654135606, 149.05505612950844)</td>\n",
       "      <td>POINT (149.05506 -35.39201)</td>\n",
       "    </tr>\n",
       "    <tr>\n",
       "      <th>1</th>\n",
       "      <td>1039779</td>\n",
       "      <td>05/04/2012</td>\n",
       "      <td>17:30:00</td>\n",
       "      <td>PHILLIP</td>\n",
       "      <td>149.084447</td>\n",
       "      <td>-35.348921</td>\n",
       "      <td>YES</td>\n",
       "      <td>NO</td>\n",
       "      <td>West bound</td>\n",
       "      <td>Injury</td>\n",
       "      <td>Daylight</td>\n",
       "      <td>Good dry surface</td>\n",
       "      <td>Fine</td>\n",
       "      <td>(-35.34892137433122, 149.0844465057644)</td>\n",
       "      <td>POINT (149.08445 -35.34892)</td>\n",
       "    </tr>\n",
       "    <tr>\n",
       "      <th>2</th>\n",
       "      <td>1048742</td>\n",
       "      <td>28/10/2012</td>\n",
       "      <td>11:48:00</td>\n",
       "      <td>HALL</td>\n",
       "      <td>149.061431</td>\n",
       "      <td>-35.172863</td>\n",
       "      <td>NO</td>\n",
       "      <td>YES</td>\n",
       "      <td>South bound</td>\n",
       "      <td>Injury</td>\n",
       "      <td>Daylight</td>\n",
       "      <td>Good dry surface</td>\n",
       "      <td>Fine</td>\n",
       "      <td>(-35.172862707340954, 149.0614313347401)</td>\n",
       "      <td>POINT (149.06143 -35.17286)</td>\n",
       "    </tr>\n",
       "    <tr>\n",
       "      <th>3</th>\n",
       "      <td>1041937</td>\n",
       "      <td>07/08/2012</td>\n",
       "      <td>17:00:00</td>\n",
       "      <td>BELCONNEN</td>\n",
       "      <td>149.094072</td>\n",
       "      <td>-35.201315</td>\n",
       "      <td>YES</td>\n",
       "      <td>NO</td>\n",
       "      <td>North bound</td>\n",
       "      <td>Property Damage Only</td>\n",
       "      <td>Daylight</td>\n",
       "      <td>Good dry surface</td>\n",
       "      <td>Fine</td>\n",
       "      <td>(-35.201315499751615, 149.09407196860244)</td>\n",
       "      <td>POINT (149.09407 -35.20132)</td>\n",
       "    </tr>\n",
       "    <tr>\n",
       "      <th>4</th>\n",
       "      <td>1048339</td>\n",
       "      <td>01/11/2012</td>\n",
       "      <td>14:45:00</td>\n",
       "      <td>HARRISON</td>\n",
       "      <td>149.156400</td>\n",
       "      <td>-35.197308</td>\n",
       "      <td>YES</td>\n",
       "      <td>NO</td>\n",
       "      <td>South bound</td>\n",
       "      <td>Injury</td>\n",
       "      <td>Daylight</td>\n",
       "      <td>Good dry surface</td>\n",
       "      <td>Fine</td>\n",
       "      <td>(-35.19730828458103, 149.15639997910796)</td>\n",
       "      <td>POINT (149.15640 -35.19731)</td>\n",
       "    </tr>\n",
       "  </tbody>\n",
       "</table>\n",
       "</div>"
      ],
      "text/plain": [
       "   CRASH_ID  CRASH_DATE CRASH_TIME SUBURB_LOCATION   LONGITUDE   LATITUDE  \\\n",
       "0   1025691  13/01/2012   09:18:00          KAMBAH  149.055056 -35.392007   \n",
       "1   1039779  05/04/2012   17:30:00         PHILLIP  149.084447 -35.348921   \n",
       "2   1048742  28/10/2012   11:48:00            HALL  149.061431 -35.172863   \n",
       "3   1041937  07/08/2012   17:00:00       BELCONNEN  149.094072 -35.201315   \n",
       "4   1048339  01/11/2012   14:45:00        HARRISON  149.156400 -35.197308   \n",
       "\n",
       "  INTERSECTION MIDBLOCK CRASH_DIRECTION        CRASH_SEVERITY  \\\n",
       "0           NO      YES      East bound                Injury   \n",
       "1          YES       NO      West bound                Injury   \n",
       "2           NO      YES     South bound                Injury   \n",
       "3          YES       NO     North bound  Property Damage Only   \n",
       "4          YES       NO     South bound                Injury   \n",
       "\n",
       "  LIGHTING_CONDITION    ROAD_CONDITION WEATHER_CONDITION  \\\n",
       "0           Daylight  Good dry surface              Fine   \n",
       "1           Daylight  Good dry surface              Fine   \n",
       "2           Daylight  Good dry surface              Fine   \n",
       "3           Daylight  Good dry surface              Fine   \n",
       "4           Daylight  Good dry surface              Fine   \n",
       "\n",
       "                                    Location                     geometry  \n",
       "0  (-35.392006654135606, 149.05505612950844)  POINT (149.05506 -35.39201)  \n",
       "1    (-35.34892137433122, 149.0844465057644)  POINT (149.08445 -35.34892)  \n",
       "2   (-35.172862707340954, 149.0614313347401)  POINT (149.06143 -35.17286)  \n",
       "3  (-35.201315499751615, 149.09407196860244)  POINT (149.09407 -35.20132)  \n",
       "4   (-35.19730828458103, 149.15639997910796)  POINT (149.15640 -35.19731)  "
      ]
     },
     "execution_count": 24,
     "metadata": {},
     "output_type": "execute_result"
    }
   ],
   "source": [
    "crash_data.head()"
   ]
  },
  {
   "cell_type": "code",
   "execution_count": 27,
   "metadata": {},
   "outputs": [
    {
     "data": {
      "text/plain": [
       "<Geographic 2D CRS: EPSG:4326>\n",
       "Name: WGS 84\n",
       "Axis Info [ellipsoidal]:\n",
       "- Lat[north]: Geodetic latitude (degree)\n",
       "- Lon[east]: Geodetic longitude (degree)\n",
       "Area of Use:\n",
       "- name: World.\n",
       "- bounds: (-180.0, -90.0, 180.0, 90.0)\n",
       "Datum: World Geodetic System 1984 ensemble\n",
       "- Ellipsoid: WGS 84\n",
       "- Prime Meridian: Greenwich"
      ]
     },
     "execution_count": 27,
     "metadata": {},
     "output_type": "execute_result"
    }
   ],
   "source": [
    "crash_data.crs"
   ]
  },
  {
   "cell_type": "code",
   "execution_count": 30,
   "metadata": {},
   "outputs": [
    {
     "data": {
      "text/plain": [
       "<Projected CRS: EPSG:3857>\n",
       "Name: WGS 84 / Pseudo-Mercator\n",
       "Axis Info [cartesian]:\n",
       "- X[east]: Easting (metre)\n",
       "- Y[north]: Northing (metre)\n",
       "Area of Use:\n",
       "- name: World between 85.06°S and 85.06°N.\n",
       "- bounds: (-180.0, -85.06, 180.0, 85.06)\n",
       "Coordinate Operation:\n",
       "- name: Popular Visualisation Pseudo-Mercator\n",
       "- method: Popular Visualisation Pseudo Mercator\n",
       "Datum: World Geodetic System 1984 ensemble\n",
       "- Ellipsoid: WGS 84\n",
       "- Prime Meridian: Greenwich"
      ]
     },
     "execution_count": 30,
     "metadata": {},
     "output_type": "execute_result"
    }
   ],
   "source": [
    "crash_data = crash_data.to_crs(3857)\n",
    "crash_data.crs"
   ]
  },
  {
   "cell_type": "code",
   "execution_count": 25,
   "metadata": {},
   "outputs": [
    {
     "data": {
      "text/html": [
       "<div>\n",
       "<style scoped>\n",
       "    .dataframe tbody tr th:only-of-type {\n",
       "        vertical-align: middle;\n",
       "    }\n",
       "\n",
       "    .dataframe tbody tr th {\n",
       "        vertical-align: top;\n",
       "    }\n",
       "\n",
       "    .dataframe thead th {\n",
       "        text-align: right;\n",
       "    }\n",
       "</style>\n",
       "<table border=\"1\" class=\"dataframe\">\n",
       "  <thead>\n",
       "    <tr style=\"text-align: right;\">\n",
       "      <th></th>\n",
       "      <th>timestamp</th>\n",
       "      <th>xacc</th>\n",
       "      <th>yacc</th>\n",
       "      <th>speed</th>\n",
       "      <th>maxspeed</th>\n",
       "      <th>lanecount</th>\n",
       "      <th>classification</th>\n",
       "      <th>geometry</th>\n",
       "    </tr>\n",
       "  </thead>\n",
       "  <tbody>\n",
       "    <tr>\n",
       "      <th>0</th>\n",
       "      <td>2022-01-03 01:49:36+00:00</td>\n",
       "      <td>-0.622</td>\n",
       "      <td>-0.255</td>\n",
       "      <td>29</td>\n",
       "      <td>62</td>\n",
       "      <td>1</td>\n",
       "      <td>Braking</td>\n",
       "      <td>POINT (149.00200 -35.76227)</td>\n",
       "    </tr>\n",
       "    <tr>\n",
       "      <th>1</th>\n",
       "      <td>2020-07-01 02:17:01+00:00</td>\n",
       "      <td>1.394</td>\n",
       "      <td>-0.600</td>\n",
       "      <td>64</td>\n",
       "      <td>83</td>\n",
       "      <td>4</td>\n",
       "      <td>Steering</td>\n",
       "      <td>POINT (149.05411 -35.32600)</td>\n",
       "    </tr>\n",
       "    <tr>\n",
       "      <th>2</th>\n",
       "      <td>2023-01-25 06:32:38+00:00</td>\n",
       "      <td>-1.114</td>\n",
       "      <td>0.017</td>\n",
       "      <td>27</td>\n",
       "      <td>48</td>\n",
       "      <td>2</td>\n",
       "      <td>Braking</td>\n",
       "      <td>POINT (149.06319 -35.32026)</td>\n",
       "    </tr>\n",
       "    <tr>\n",
       "      <th>3</th>\n",
       "      <td>2021-06-23 07:33:19+00:00</td>\n",
       "      <td>-0.976</td>\n",
       "      <td>0.396</td>\n",
       "      <td>17</td>\n",
       "      <td>22</td>\n",
       "      <td>1</td>\n",
       "      <td>Braking</td>\n",
       "      <td>POINT (149.06277 -35.32006)</td>\n",
       "    </tr>\n",
       "    <tr>\n",
       "      <th>4</th>\n",
       "      <td>2021-03-03 21:55:16+00:00</td>\n",
       "      <td>-0.896</td>\n",
       "      <td>0.003</td>\n",
       "      <td>67</td>\n",
       "      <td>95</td>\n",
       "      <td>2</td>\n",
       "      <td>Braking</td>\n",
       "      <td>POINT (149.06238 -35.31332)</td>\n",
       "    </tr>\n",
       "  </tbody>\n",
       "</table>\n",
       "</div>"
      ],
      "text/plain": [
       "                  timestamp   xacc   yacc  speed  maxspeed  lanecount  \\\n",
       "0 2022-01-03 01:49:36+00:00 -0.622 -0.255     29        62          1   \n",
       "1 2020-07-01 02:17:01+00:00  1.394 -0.600     64        83          4   \n",
       "2 2023-01-25 06:32:38+00:00 -1.114  0.017     27        48          2   \n",
       "3 2021-06-23 07:33:19+00:00 -0.976  0.396     17        22          1   \n",
       "4 2021-03-03 21:55:16+00:00 -0.896  0.003     67        95          2   \n",
       "\n",
       "  classification                     geometry  \n",
       "0        Braking  POINT (149.00200 -35.76227)  \n",
       "1       Steering  POINT (149.05411 -35.32600)  \n",
       "2        Braking  POINT (149.06319 -35.32026)  \n",
       "3        Braking  POINT (149.06277 -35.32006)  \n",
       "4        Braking  POINT (149.06238 -35.31332)  "
      ]
     },
     "execution_count": 25,
     "metadata": {},
     "output_type": "execute_result"
    }
   ],
   "source": [
    "merged_data.head()"
   ]
  },
  {
   "cell_type": "code",
   "execution_count": 26,
   "metadata": {},
   "outputs": [
    {
     "data": {
      "text/plain": [
       "<Geographic 2D CRS: EPSG:4326>\n",
       "Name: WGS 84\n",
       "Axis Info [ellipsoidal]:\n",
       "- Lat[north]: Geodetic latitude (degree)\n",
       "- Lon[east]: Geodetic longitude (degree)\n",
       "Area of Use:\n",
       "- name: World.\n",
       "- bounds: (-180.0, -90.0, 180.0, 90.0)\n",
       "Datum: World Geodetic System 1984 ensemble\n",
       "- Ellipsoid: WGS 84\n",
       "- Prime Meridian: Greenwich"
      ]
     },
     "execution_count": 26,
     "metadata": {},
     "output_type": "execute_result"
    }
   ],
   "source": [
    "merged_data.crs"
   ]
  },
  {
   "cell_type": "code",
   "execution_count": 31,
   "metadata": {},
   "outputs": [
    {
     "data": {
      "text/plain": [
       "<Projected CRS: EPSG:3857>\n",
       "Name: WGS 84 / Pseudo-Mercator\n",
       "Axis Info [cartesian]:\n",
       "- X[east]: Easting (metre)\n",
       "- Y[north]: Northing (metre)\n",
       "Area of Use:\n",
       "- name: World between 85.06°S and 85.06°N.\n",
       "- bounds: (-180.0, -85.06, 180.0, 85.06)\n",
       "Coordinate Operation:\n",
       "- name: Popular Visualisation Pseudo-Mercator\n",
       "- method: Popular Visualisation Pseudo Mercator\n",
       "Datum: World Geodetic System 1984 ensemble\n",
       "- Ellipsoid: WGS 84\n",
       "- Prime Meridian: Greenwich"
      ]
     },
     "execution_count": 31,
     "metadata": {},
     "output_type": "execute_result"
    }
   ],
   "source": [
    "merged_data = merged_data.to_crs(3857)\n",
    "merged_data.crs"
   ]
  }
 ],
 "metadata": {
  "kernelspec": {
   "display_name": "Python 3",
   "language": "python",
   "name": "python3"
  },
  "language_info": {
   "codemirror_mode": {
    "name": "ipython",
    "version": 3
   },
   "file_extension": ".py",
   "mimetype": "text/x-python",
   "name": "python",
   "nbconvert_exporter": "python",
   "pygments_lexer": "ipython3",
   "version": "3.10.6"
  },
  "orig_nbformat": 4
 },
 "nbformat": 4,
 "nbformat_minor": 2
}
