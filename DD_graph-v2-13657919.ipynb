{
 "cells": [
  {
   "cell_type": "markdown",
   "metadata": {},
   "source": [
    "Dependencies and packages"
   ]
  },
  {
   "cell_type": "code",
   "execution_count": 29,
   "metadata": {},
   "outputs": [],
   "source": [
    "import pandas as pd\n",
    "import geopandas as gpd\n",
    "import matplotlib.pyplot as plt\n",
    "import numpy as np\n",
    "import networkx as nx\n",
    "from sklearn.cluster import KMeans"
   ]
  },
  {
   "cell_type": "markdown",
   "metadata": {},
   "source": [
    "Import Data"
   ]
  },
  {
   "cell_type": "code",
   "execution_count": 2,
   "metadata": {},
   "outputs": [],
   "source": [
    "ddb = gpd.read_file('./data/ddb_roundabout.geojson')"
   ]
  },
  {
   "cell_type": "code",
   "execution_count": 16,
   "metadata": {},
   "outputs": [],
   "source": [
    "accident = gpd.read_file('./data/crash_roundabout.geojson')"
   ]
  },
  {
   "cell_type": "code",
   "execution_count": 31,
   "metadata": {},
   "outputs": [],
   "source": [
    "roundabout = gpd.read_file('./data/roundabout.geojson')"
   ]
  },
  {
   "cell_type": "code",
   "execution_count": 32,
   "metadata": {},
   "outputs": [
    {
     "data": {
      "text/html": [
       "<div>\n",
       "<style scoped>\n",
       "    .dataframe tbody tr th:only-of-type {\n",
       "        vertical-align: middle;\n",
       "    }\n",
       "\n",
       "    .dataframe tbody tr th {\n",
       "        vertical-align: top;\n",
       "    }\n",
       "\n",
       "    .dataframe thead th {\n",
       "        text-align: right;\n",
       "    }\n",
       "</style>\n",
       "<table border=\"1\" class=\"dataframe\">\n",
       "  <thead>\n",
       "    <tr style=\"text-align: right;\">\n",
       "      <th></th>\n",
       "      <th>id</th>\n",
       "      <th>@id</th>\n",
       "      <th>access</th>\n",
       "      <th>area</th>\n",
       "      <th>bicycle</th>\n",
       "      <th>bridge</th>\n",
       "      <th>bridge_number</th>\n",
       "      <th>check_date</th>\n",
       "      <th>construction</th>\n",
       "      <th>cycleway</th>\n",
       "      <th>...</th>\n",
       "      <th>source:geometry</th>\n",
       "      <th>source:lanes</th>\n",
       "      <th>source:name</th>\n",
       "      <th>source:oneway</th>\n",
       "      <th>surface</th>\n",
       "      <th>traffic_calming</th>\n",
       "      <th>turn:lanes</th>\n",
       "      <th>width</th>\n",
       "      <th>wikidata</th>\n",
       "      <th>geometry</th>\n",
       "    </tr>\n",
       "  </thead>\n",
       "  <tbody>\n",
       "    <tr>\n",
       "      <th>count</th>\n",
       "      <td>904</td>\n",
       "      <td>904</td>\n",
       "      <td>9</td>\n",
       "      <td>4</td>\n",
       "      <td>11</td>\n",
       "      <td>4</td>\n",
       "      <td>3</td>\n",
       "      <td>1</td>\n",
       "      <td>1</td>\n",
       "      <td>1</td>\n",
       "      <td>...</td>\n",
       "      <td>463</td>\n",
       "      <td>521</td>\n",
       "      <td>5</td>\n",
       "      <td>8</td>\n",
       "      <td>884</td>\n",
       "      <td>4</td>\n",
       "      <td>15</td>\n",
       "      <td>12</td>\n",
       "      <td>13</td>\n",
       "      <td>904</td>\n",
       "    </tr>\n",
       "    <tr>\n",
       "      <th>unique</th>\n",
       "      <td>904</td>\n",
       "      <td>904</td>\n",
       "      <td>3</td>\n",
       "      <td>1</td>\n",
       "      <td>2</td>\n",
       "      <td>1</td>\n",
       "      <td>2</td>\n",
       "      <td>1</td>\n",
       "      <td>1</td>\n",
       "      <td>1</td>\n",
       "      <td>...</td>\n",
       "      <td>11</td>\n",
       "      <td>4</td>\n",
       "      <td>2</td>\n",
       "      <td>1</td>\n",
       "      <td>4</td>\n",
       "      <td>1</td>\n",
       "      <td>5</td>\n",
       "      <td>10</td>\n",
       "      <td>1</td>\n",
       "      <td>904</td>\n",
       "    </tr>\n",
       "    <tr>\n",
       "      <th>top</th>\n",
       "      <td>way/1059094803</td>\n",
       "      <td>way/1059094803</td>\n",
       "      <td>private</td>\n",
       "      <td>yes</td>\n",
       "      <td>no</td>\n",
       "      <td>yes</td>\n",
       "      <td>3075</td>\n",
       "      <td>2022-05-12</td>\n",
       "      <td>residential</td>\n",
       "      <td>lane</td>\n",
       "      <td>...</td>\n",
       "      <td>ACT2018</td>\n",
       "      <td>ACTmapi Imagery 2018</td>\n",
       "      <td>LPI NSW Base Map</td>\n",
       "      <td>ACTmapi Imagery 2018</td>\n",
       "      <td>asphalt</td>\n",
       "      <td>island</td>\n",
       "      <td>|right</td>\n",
       "      <td>6</td>\n",
       "      <td>Q3365467</td>\n",
       "      <td>POLYGON ((149.0275191 -35.2024024, 149.0275175...</td>\n",
       "    </tr>\n",
       "    <tr>\n",
       "      <th>freq</th>\n",
       "      <td>1</td>\n",
       "      <td>1</td>\n",
       "      <td>6</td>\n",
       "      <td>4</td>\n",
       "      <td>6</td>\n",
       "      <td>4</td>\n",
       "      <td>2</td>\n",
       "      <td>1</td>\n",
       "      <td>1</td>\n",
       "      <td>1</td>\n",
       "      <td>...</td>\n",
       "      <td>151</td>\n",
       "      <td>415</td>\n",
       "      <td>4</td>\n",
       "      <td>8</td>\n",
       "      <td>475</td>\n",
       "      <td>4</td>\n",
       "      <td>10</td>\n",
       "      <td>3</td>\n",
       "      <td>13</td>\n",
       "      <td>1</td>\n",
       "    </tr>\n",
       "  </tbody>\n",
       "</table>\n",
       "<p>4 rows × 52 columns</p>\n",
       "</div>"
      ],
      "text/plain": [
       "                    id             @id   access area bicycle bridge  \\\n",
       "count              904             904        9    4      11      4   \n",
       "unique             904             904        3    1       2      1   \n",
       "top     way/1059094803  way/1059094803  private  yes      no    yes   \n",
       "freq                 1               1        6    4       6      4   \n",
       "\n",
       "       bridge_number  check_date construction cycleway  ... source:geometry  \\\n",
       "count              3           1            1        1  ...             463   \n",
       "unique             2           1            1        1  ...              11   \n",
       "top             3075  2022-05-12  residential     lane  ...         ACT2018   \n",
       "freq               2           1            1        1  ...             151   \n",
       "\n",
       "                source:lanes       source:name         source:oneway  surface  \\\n",
       "count                    521                 5                     8      884   \n",
       "unique                     4                 2                     1        4   \n",
       "top     ACTmapi Imagery 2018  LPI NSW Base Map  ACTmapi Imagery 2018  asphalt   \n",
       "freq                     415                 4                     8      475   \n",
       "\n",
       "       traffic_calming turn:lanes width  wikidata  \\\n",
       "count                4         15    12        13   \n",
       "unique               1          5    10         1   \n",
       "top             island     |right     6  Q3365467   \n",
       "freq                 4         10     3        13   \n",
       "\n",
       "                                                 geometry  \n",
       "count                                                 904  \n",
       "unique                                                904  \n",
       "top     POLYGON ((149.0275191 -35.2024024, 149.0275175...  \n",
       "freq                                                    1  \n",
       "\n",
       "[4 rows x 52 columns]"
      ]
     },
     "execution_count": 32,
     "metadata": {},
     "output_type": "execute_result"
    }
   ],
   "source": [
    "roundabout.describe()"
   ]
  },
  {
   "cell_type": "markdown",
   "metadata": {},
   "source": [
    "steps: (option 1)\n",
    "\n",
    "The goal is to create a graph similar to version 1 but with lesser edges and lesser nodes for a clearer defined graph\n",
    "\n",
    "1. cluster rows for ddb dataset (based on location)\n",
    "2. group or cluster their x acc, y acc, and classification to the clustered rows\n",
    "3. create empty graph\n",
    "4. add nodes based on clustered rows (location) dataset\n",
    "5. add edges based on relationship connected clustered rows (location)"
   ]
  },
  {
   "cell_type": "code",
   "execution_count": 60,
   "metadata": {},
   "outputs": [
    {
     "data": {
      "text/plain": [
       "array([[16595825.83481508, -4208110.69446205],\n",
       "       [16597539.70969533, -4206559.21011938],\n",
       "       [16597539.70969533, -4206559.21011938],\n",
       "       ...,\n",
       "       [16605925.40693679, -4207808.0751288 ],\n",
       "       [16606322.59487994, -4208557.81676017],\n",
       "       [16605921.17679614, -4207828.81342951]])"
      ]
     },
     "execution_count": 60,
     "metadata": {},
     "output_type": "execute_result"
    }
   ],
   "source": [
    "#Step 1 - cluser rows for location only\n",
    "locations = [[point.x, point.y] for point in ddb['geometry']]\n",
    "locations = np.array(locations)\n",
    "locations"
   ]
  },
  {
   "cell_type": "code",
   "execution_count": 61,
   "metadata": {},
   "outputs": [
    {
     "name": "stdout",
     "output_type": "stream",
     "text": [
      "class:  ndarray\n",
      "shape:  (2167, 2)\n",
      "strides:  (16, 8)\n",
      "itemsize:  8\n",
      "aligned:  True\n",
      "contiguous:  True\n",
      "fortran:  False\n",
      "data pointer: 0x22b24ca21e0\n",
      "byteorder:  little\n",
      "byteswap:  False\n",
      "type: float64\n"
     ]
    }
   ],
   "source": [
    "np.info(locations)"
   ]
  },
  {
   "cell_type": "code",
   "execution_count": 40,
   "metadata": {},
   "outputs": [],
   "source": [
    "num_location_clusters = 400"
   ]
  },
  {
   "cell_type": "code",
   "execution_count": 63,
   "metadata": {},
   "outputs": [],
   "source": [
    "kmeans_location = KMeans(n_clusters=num_location_clusters)"
   ]
  },
  {
   "cell_type": "code",
   "execution_count": 68,
   "metadata": {},
   "outputs": [
    {
     "name": "stderr",
     "output_type": "stream",
     "text": [
      "c:\\Python310\\lib\\site-packages\\sklearn\\cluster\\_kmeans.py:870: FutureWarning: The default value of `n_init` will change from 10 to 'auto' in 1.4. Set the value of `n_init` explicitly to suppress the warning\n",
      "  warnings.warn(\n"
     ]
    }
   ],
   "source": [
    "ddb['location_cluster'] = kmeans_location.fit(locations)"
   ]
  },
  {
   "cell_type": "code",
   "execution_count": 71,
   "metadata": {},
   "outputs": [
    {
     "ename": "TypeError",
     "evalue": "Could not convert BrakingBrakingBrakingSteeringSteeringSteeringSteeringSteeringSteeringBrakingBrakingSteeringBrakingSteeringSteeringBrakingBrakingBrakingBrakingSteeringSteeringSteeringSteeringSteeringSteeringSteeringSteeringSteeringSteeringBrakingSteeringSteeringSteeringSteeringSteeringSteeringSteeringSteeringSteeringBrakingBrakingBrakingBrakingSteeringSteeringSteeringSteeringSteeringSteeringSteeringSteeringSteeringSteeringSteeringBrakingBrakingBrakingSteeringSteeringBrakingSteeringSteeringSteeringSteeringSteeringSteeringSteeringSteeringSteeringSteeringBrakingBrakingSteeringBrakingSteeringSteeringSteeringSteeringSteeringBrakingSteeringSteeringSteeringBrakingSteeringSteeringBrakingSteeringBrakingSteeringSteeringBrakingSteeringSteeringSteeringBrakingSteeringSteeringSteeringSteeringBrakingSteeringBrakingBrakingSteeringBrakingSteeringSteeringSteeringSteeringSteeringSteeringSteeringSteeringSteeringSteeringSteeringSteeringSteeringSteeringSteeringBrakingSteeringSteeringSteeringBrakingBrakingBrakingSteeringSteeringSteeringBrakingSteeringSteeringSteeringSteeringSteeringSteeringBrakingSteeringSteeringBrakingSteeringSteeringBrakingSteeringSteeringBrakingSteeringSteeringSteeringSteeringBrakingSteeringSteeringSteeringSteeringSteeringSteeringSteeringSteeringSteeringSteeringBrakingSteeringSteeringSteeringSteeringSteeringSteeringSteeringSteeringSteeringSteeringSteeringSteeringSteeringSteeringSteeringSteeringSteeringSteeringSteeringSteeringSteeringSteeringSteeringSteeringSteeringSteeringSteeringBrakingSteeringBrakingSteeringSteeringSteeringSteeringSteeringSteeringSteeringBrakingSteeringSteeringSteeringSteeringSteeringSteeringSteeringSteeringSteeringSteeringSteeringBrakingSteeringBrakingSteeringSteeringSteeringSteeringSteeringSteeringSteeringSteeringSteeringSteeringSteeringSteeringSteeringSteeringSteeringSteeringSteeringSteeringSteeringSteeringSteeringBrakingBrakingSteeringSteeringSteeringSteeringSteeringBrakingSteeringSteeringSteeringSteeringSteeringSteeringSteeringSteeringSteeringSteeringSteeringBrakingSteeringSteeringSteeringSteeringSteeringSteeringSteeringSteeringSteeringSteeringSteeringSteeringSteeringSteeringBrakingSteeringSteeringSteeringSteeringBrakingSteeringSteeringSteeringSteeringSteeringSteeringSteeringBrakingSteeringBrakingSteeringSteeringSteeringSteeringSteeringBrakingSteeringSteeringSteeringBrakingSteeringSteeringSteeringSteeringSteeringSteeringSteeringBrakingSteeringSteeringSteeringSteeringSteeringSteeringSteeringSteeringSteeringSteeringSteeringSteeringSteeringBrakingSteeringSteeringSteeringSteeringSteeringSteeringSteeringSteeringSteeringBrakingSteeringSteeringSteeringSteeringSteeringSteeringSteeringSteeringSteeringSteeringSteeringSteeringSteeringSteeringSteeringSteeringSteeringSteeringSteeringSteeringSteeringSteeringSteeringSteeringSteeringSteeringSteeringSteeringSteeringSteeringSteeringSteeringSteeringSteeringSteeringSteeringSteeringSteeringSteeringSteeringSteeringSteeringBrakingSteeringSteeringSteeringSteeringBrakingSteeringSteeringSteeringSteeringSteeringSteeringSteeringSteeringSteeringSteeringSteeringBrakingSteeringBrakingSteeringBrakingSteeringSteeringSteeringSteeringSteeringSteeringSteeringSteeringSteeringSteeringSteeringBrakingSteeringBrakingSteeringSteeringSteeringSteeringSteeringBrakingSteeringSteeringSteeringBrakingSteeringSteeringSteeringSteeringSteeringSteeringSteeringSteeringSteeringSteeringBrakingBrakingSteeringSteeringSteeringSteeringSteeringBrakingSteeringSteeringSteeringSteeringSteeringSteeringSteeringSteeringSteeringSteeringSteeringBrakingSteeringBrakingBrakingBrakingSteeringBrakingBrakingSteeringSteeringSteeringBrakingSteeringSteeringBrakingSteeringSteeringSteeringSteeringBrakingBrakingBrakingBrakingSteeringSteeringSteeringSteeringSteeringSteeringSteeringSteeringBrakingSteeringSteeringSteeringSteeringSteeringSteeringSteeringSteeringSteeringSteeringBrakingBrakingBrakingSteeringBrakingBrakingBrakingSteeringSteeringSteeringSteeringBrakingSteeringSteeringSteeringBrakingSteeringSteeringSteeringSteeringSteeringSteeringSteeringSteeringBrakingSteeringSteeringSteeringSteeringSteeringSteeringSteeringSteeringSteeringSteeringSteeringSteeringSteeringSteeringBrakingSteeringSteeringBrakingBrakingBrakingBrakingSteeringSteeringSteeringSteeringBrakingSteeringSteeringBrakingBrakingSteeringBrakingSteeringBrakingSteeringSteeringSteeringSteeringSteeringSteeringSteeringSteeringSteeringSteeringSteeringSteeringBrakingSteeringBrakingSteeringBrakingBrakingSteeringSteeringSteeringSteeringSteeringSteeringBrakingBrakingSteeringBrakingBrakingSteeringSteeringSteeringSteeringSteeringSteeringSteeringSteeringBrakingBrakingBrakingBrakingBrakingBrakingSteeringSteeringSteeringSteeringSteeringBrakingSteeringBrakingSteeringSteeringSteeringSteeringSteeringSteeringSteeringSteeringSteeringSteeringBrakingSteeringBrakingSteeringSteeringSteeringSteeringSteeringSteeringBrakingSteeringSteeringBrakingBrakingBrakingSteeringSteeringSteeringSteeringSteeringSteeringSteeringSteeringSteeringSteeringSteeringSteeringSteeringBrakingBrakingSteeringSteeringSteeringSteeringBrakingSteeringBrakingBrakingSteeringSteeringBrakingSteeringBrakingBrakingSteeringSteeringSteeringSteeringSteeringSteeringSteeringBrakingBrakingBrakingSteeringSteeringBrakingBrakingSteeringSteeringSteeringSteeringSteeringSteeringSteeringSteeringSteeringSteeringSteeringSteeringSteeringSteeringSteeringSteeringSteeringSteeringSteeringSteeringSteeringSteeringBrakingSteeringSteeringSteeringSteeringSteeringSteeringSteeringSteeringBrakingSteeringSteeringSteeringSteeringSteeringSteeringBrakingSteeringSteeringSteeringSteeringSteeringBrakingSteeringSteeringSteeringSteeringSteeringBrakingSteeringSteeringSteeringSteeringSteeringSteeringSteeringSteeringSteeringSteeringSteeringBrakingSteeringSteeringSteeringSteeringSteeringBrakingSteeringBrakingSteeringSteeringBrakingSteeringSteeringBrakingSteeringSteeringBrakingSteeringSteeringBrakingSteeringBrakingSteeringSteeringSteeringSteeringSteeringSteeringBrakingSteeringBrakingSteeringSteeringSteeringSteeringSteeringSteeringSteeringSteeringSteeringSteeringBrakingSteeringSteeringSteeringSteeringSteeringSteeringSteeringSteeringSteeringSteeringSteeringSteeringSteeringSteeringSteeringSteeringSteeringSteeringSteeringSteeringSteeringSteeringSteeringSteeringSteeringSteeringSteeringSteeringSteeringSteeringSteeringSteeringSteeringSteeringSteeringSteeringSteeringSteeringSteeringSteeringSteeringSteeringSteeringSteeringBrakingSteeringBrakingSteeringSteeringSteeringSteeringSteeringSteeringSteeringBrakingBrakingBrakingBrakingBrakingBrakingBrakingBrakingSteeringBrakingBrakingSteeringBrakingBrakingSteeringSteeringSteeringBrakingSteeringSteeringBrakingSteeringSteeringBrakingSteeringSteeringSteeringSteeringSteeringSteeringSteeringBrakingSteeringSteeringSteeringBrakingSteeringSteeringSteeringBrakingSteeringSteeringBrakingSteeringBrakingSteeringSteeringSteeringBrakingSteeringSteeringSteeringBrakingBrakingSteeringBrakingBrakingSteeringSteeringBrakingBrakingBrakingSteeringSteeringBrakingBrakingSteeringSteeringSteeringSteeringBrakingSteeringSteeringSteeringSteeringSteeringSteeringSteeringSteeringSteeringBrakingSteeringSteeringSteeringBrakingSteeringBrakingSteeringSteeringBrakingSteeringSteeringSteeringSteeringSteeringSteeringBrakingSteeringBrakingBrakingSteeringBrakingBrakingSteeringBrakingSteeringSteeringSteeringSteeringBrakingBrakingSteeringBrakingSteeringSteeringSteeringSteeringSteeringBrakingBrakingBrakingSteeringSteeringSteeringSteeringSteeringBrakingSteeringSteeringSteeringSteeringSteeringSteeringBrakingSteeringSteeringBrakingSteeringBrakingSteeringSteeringSteeringSteeringBrakingSteeringSteeringBrakingSteeringBrakingSteeringSteeringSteeringSteeringSteeringSteeringBrakingSteeringBrakingSteeringSteeringSteeringBrakingSteeringBrakingSteeringSteeringBrakingSteeringBrakingBrakingSteeringSteeringSteeringSteeringBrakingBrakingBrakingBrakingBrakingBrakingBrakingBrakingSteeringSteeringSteeringBrakingBrakingBrakingSteeringSteeringSteeringSteeringSteeringBrakingSteeringSteeringSteeringSteeringBrakingSteeringBrakingBrakingSteeringBrakingSteeringSteeringBrakingBrakingSteeringSteeringSteeringSteeringSteeringSteeringSteeringSteeringSteeringSteeringSteeringSteeringSteeringSteeringSteeringSteeringSteeringSteeringSteeringSteeringSteeringSteeringSteeringSteeringSteeringSteeringSteeringSteeringSteeringSteeringSteeringSteeringSteeringSteeringSteeringSteeringSteeringSteeringSteeringSteeringBrakingSteeringSteeringSteeringSteeringSteeringSteeringSteeringSteeringSteeringSteeringSteeringSteeringSteeringSteeringSteeringSteeringSteeringSteeringSteeringSteeringSteeringSteeringBrakingSteeringSteeringSteeringSteeringSteeringSteeringBrakingSteeringSteeringSteeringSteeringSteeringBrakingSteeringSteeringSteeringSteeringSteeringBrakingSteeringSteeringBrakingBrakingSteeringBrakingBrakingSteeringBrakingSteeringBrakingSteeringBrakingSteeringSteeringSteeringSteeringSteeringBrakingBrakingBrakingSteeringBrakingBrakingBrakingSteeringSteeringSteeringSteeringSteeringBrakingSteeringSteeringSteeringSteeringSteeringSteeringSteeringBrakingSteeringSteeringBrakingSteeringSteeringBrakingBrakingSteeringSteeringSteeringSteeringSteeringSteeringSteeringSteeringSteeringBrakingSteeringSteeringBrakingSteeringSteeringSteeringSteeringSteeringSteeringSteeringSteeringSteeringSteeringSteeringSteeringSteeringBrakingSteeringSteeringSteeringBrakingBrakingSteeringBrakingBrakingSteeringSteeringBrakingBrakingSteeringBrakingBrakingSteeringSteeringBrakingSteeringBrakingSteeringSteeringSteeringSteeringBrakingBrakingSteeringBrakingSteeringBrakingSteeringBrakingSteeringSteeringBrakingSteeringSteeringSteeringSteeringSteeringSteeringSteeringSteeringSteeringSteeringBrakingBrakingBrakingSteeringSteeringSteeringSteeringSteeringSteeringSteeringSteeringSteeringSteeringSteeringSteeringSteeringSteeringSteeringSteeringSteeringBrakingSteeringBrakingSteeringSteeringSteeringSteeringSteeringSteeringBrakingSteeringSteeringBrakingSteeringSteeringSteeringSteeringSteeringSteeringSteeringSteeringBrakingSteeringSteeringSteeringSteeringSteeringSteeringBrakingSteeringBrakingBrakingSteeringSteeringSteeringSteeringSteeringBrakingSteeringSteeringSteeringSteeringBrakingSteeringSteeringBrakingSteeringSteeringBrakingSteeringSteeringBrakingBrakingSteeringSteeringBrakingSteeringSteeringSteeringSteeringBrakingSteeringSteeringSteeringBrakingSteeringSteeringSteeringSteeringSteeringSteeringSteeringSteeringBrakingSteeringBrakingSteeringSteeringSteeringSteeringSteeringSteeringBrakingSteeringSteeringSteeringBrakingSteeringSteeringSteeringSteeringSteeringSteeringBrakingSteeringSteeringSteeringSteeringBrakingSteeringSteeringSteeringSteeringSteeringBrakingSteeringSteeringSteeringSteeringBrakingBrakingBrakingSteeringSteeringSteeringSteeringSteeringSteeringSteeringSteeringSteeringSteeringSteeringSteeringSteeringSteeringSteeringSteeringBrakingSteeringSteeringSteeringSteeringSteeringSteeringBrakingSteeringBrakingBrakingBrakingBrakingSteeringSteeringSteeringSteeringSteeringSteeringBrakingBrakingSteeringSteeringSteeringSteeringSteeringSteeringSteeringSteeringSteeringSteeringSteeringSteeringBrakingBrakingSteeringBrakingSteeringSteeringSteeringSteeringSteeringSteeringBrakingSteeringSteeringSteeringSteeringSteeringSteeringSteeringBrakingBrakingBrakingBrakingSteeringSteeringSteeringSteeringSteeringSteeringBrakingSteeringBrakingBrakingSteeringSteeringSteeringBrakingBrakingSteeringSteeringBrakingSteeringSteeringSteeringSteeringSteeringSteeringSteeringSteeringSteeringBrakingSteeringSteeringSteeringSteeringBrakingSteeringSteeringSteeringSteeringSteeringBrakingSteeringSteeringSteeringBrakingSteeringSteeringSteeringSteeringSteeringSteeringSteeringSteeringSteeringBrakingSteeringSteeringSteeringSteeringSteeringBrakingSteeringSteeringSteeringSteeringSteeringSteeringBrakingBrakingSteeringSteeringSteeringSteeringBrakingBrakingBrakingSteeringBrakingSteeringSteeringSteeringSteeringBrakingSteeringSteeringSteeringSteeringBrakingBrakingSteeringSteeringBrakingBrakingBrakingSteeringSteeringSteeringSteeringSteeringSteeringSteeringSteeringSteeringSteeringSteeringSteeringSteeringSteeringBrakingSteeringSteeringSteeringSteeringSteeringSteeringSteeringSteeringSteeringSteeringBrakingSteeringSteeringSteeringSteeringBrakingSteeringSteeringSteeringSteeringBrakingSteeringSteeringSteeringSteeringBrakingSteeringSteeringSteeringSteeringBrakingSteeringSteeringSteeringBrakingSteeringBrakingSteeringSteeringBrakingBrakingBrakingSteeringSteeringSteeringBrakingSteeringBrakingSteeringSteeringSteeringSteeringBrakingBrakingBrakingBrakingBrakingSteeringBrakingSteeringSteeringSteeringSteeringSteeringSteeringSteeringSteeringBrakingBrakingSteeringSteeringBrakingBrakingBrakingSteeringSteeringSteeringBrakingSteeringSteeringBrakingBrakingSteeringSteeringSteeringBrakingSteeringSteeringBrakingSteeringSteeringSteeringBrakingBrakingSteeringBrakingBrakingSteeringBrakingSteeringSteeringBrakingBrakingSteeringSteeringSteeringBrakingSteeringBrakingBrakingSteeringSteeringSteeringSteeringSteeringSteeringSteeringBrakingSteeringSteeringSteeringSteeringBrakingBrakingSteeringSteeringBrakingSteeringSteeringBrakingSteeringSteeringBrakingSteeringSteeringSteeringSteeringSteeringSteeringSteeringSteeringSteeringSteeringSteeringSteeringSteeringSteeringSteeringSteeringSteeringSteeringSteeringSteeringSteeringSteeringBrakingSteeringSteeringSteeringBrakingSteeringSteeringSteeringSteeringSteeringSteeringSteeringSteeringSteeringSteeringSteeringSteeringBrakingSteeringSteeringSteeringSteeringSteeringSteeringSteeringSteeringSteeringSteeringSteeringBrakingSteeringSteeringSteeringBrakingSteeringSteeringSteeringSteeringSteeringBrakingSteeringSteeringSteeringSteeringSteeringSteeringSteeringSteeringSteeringSteeringSteeringBrakingSteeringSteeringSteeringBrakingSteeringBrakingBrakingSteeringSteeringBrakingBrakingSteeringSteeringSteeringSteeringBrakingBrakingSteeringSteeringSteeringSteeringSteeringBrakingBrakingBrakingBrakingSteeringSteeringSteeringSteeringSteeringSteeringSteeringSteeringSteeringBrakingSteeringSteeringSteeringSteeringSteeringSteeringSteeringBrakingSteeringSteeringSteeringSteeringSteeringBrakingSteeringBrakingSteeringSteeringBrakingSteeringSteeringSteeringBrakingSteeringBrakingBrakingBrakingSteeringSteeringSteeringBrakingBrakingBrakingBrakingSteeringSteeringSteeringBrakingBrakingBrakingSteeringBrakingBrakingBrakingBrakingSteeringBrakingSteeringSteeringSteeringSteeringSteeringSteeringBrakingSteeringBrakingBrakingBrakingBrakingBrakingBrakingBrakingSteeringBrakingSteeringSteeringBrakingSteeringSteeringSteeringBrakingBrakingSteeringSteeringBrakingSteeringBrakingSteeringSteeringSteeringSteeringSteeringSteeringSteeringSteeringSteeringSteeringSteeringBrakingSteeringBrakingSteeringSteeringSteeringSteeringSteeringBrakingSteeringSteeringSteeringSteeringSteeringSteeringSteeringSteeringSteeringBrakingSteeringSteeringSteeringSteeringSteeringSteeringSteeringBrakingSteeringSteeringBrakingSteeringSteeringSteeringBrakingSteeringBrakingBrakingSteeringSteeringBrakingSteeringSteeringBrakingSteeringSteeringBrakingSteeringBrakingBrakingSteeringBrakingBrakingBrakingBrakingBrakingBrakingBrakingBrakingSteeringBrakingBrakingBrakingBrakingSteeringSteeringBrakingBrakingSteeringSteeringBrakingBrakingSteeringSteeringBrakingBrakingSteeringSteeringSteeringSteeringSteeringBrakingSteeringBrakingSteeringSteeringSteeringSteeringSteeringSteeringSteeringSteeringSteeringBrakingSteeringSteeringSteeringSteeringSteeringSteeringBrakingBrakingSteeringSteeringSteeringBrakingBrakingBrakingSteeringBrakingSteeringSteeringSteeringSteeringBrakingSteeringSteeringSteeringSteeringSteeringSteeringSteeringSteeringSteeringSteeringBrakingSteeringSteeringSteeringBrakingBrakingBrakingBrakingSteeringSteeringBrakingBrakingBrakingSteeringSteeringSteeringSteeringSteeringSteeringSteeringSteeringSteeringSteeringBrakingSteeringSteeringSteeringSteeringSteeringSteeringSteeringBrakingSteeringSteeringSteeringSteeringSteeringSteeringSteeringBrakingSteeringSteeringSteeringBrakingBrakingSteeringBrakingBrakingBrakingSteeringBrakingBrakingBrakingBrakingSteeringBrakingSteeringSteeringSteeringSteeringSteeringSteeringSteeringSteeringSteeringSteeringSteeringSteeringSteeringSteeringSteeringSteeringSteeringSteeringSteeringSteeringSteeringSteeringSteeringSteeringSteeringSteeringSteeringSteeringBrakingBrakingSteeringBrakingSteeringBrakingSteeringBrakingSteeringSteeringSteeringSteeringSteeringSteeringSteeringSteeringSteeringBrakingSteeringSteeringBrakingSteeringSteeringSteeringSteeringBrakingBrakingBrakingBrakingSteeringSteeringSteeringSteeringBrakingSteeringSteeringSteeringSteeringBrakingSteeringSteeringBrakingSteeringSteeringSteeringSteeringSteeringSteeringSteeringSteeringSteeringSteeringSteeringSteeringSteeringSteeringSteeringSteeringBrakingSteeringSteeringSteeringSteeringSteeringSteeringSteeringSteeringSteeringSteeringSteeringSteeringSteeringBrakingSteeringSteeringSteeringSteeringSteeringSteeringSteeringSteeringSteeringSteeringSteering to numeric",
     "output_type": "error",
     "traceback": [
      "\u001b[1;31m---------------------------------------------------------------------------\u001b[0m",
      "\u001b[1;31mNotImplementedError\u001b[0m                       Traceback (most recent call last)",
      "File \u001b[1;32mc:\\Python310\\lib\\site-packages\\pandas\\core\\groupby\\groupby.py:1774\u001b[0m, in \u001b[0;36mGroupBy._cython_agg_general.<locals>.array_func\u001b[1;34m(values)\u001b[0m\n\u001b[0;32m   1773\u001b[0m \u001b[39mtry\u001b[39;00m:\n\u001b[1;32m-> 1774\u001b[0m     result \u001b[39m=\u001b[39m \u001b[39mself\u001b[39m\u001b[39m.\u001b[39mgrouper\u001b[39m.\u001b[39m_cython_operation(\n\u001b[0;32m   1775\u001b[0m         \u001b[39m\"\u001b[39m\u001b[39maggregate\u001b[39m\u001b[39m\"\u001b[39m,\n\u001b[0;32m   1776\u001b[0m         values,\n\u001b[0;32m   1777\u001b[0m         how,\n\u001b[0;32m   1778\u001b[0m         axis\u001b[39m=\u001b[39mdata\u001b[39m.\u001b[39mndim \u001b[39m-\u001b[39m \u001b[39m1\u001b[39m,\n\u001b[0;32m   1779\u001b[0m         min_count\u001b[39m=\u001b[39mmin_count,\n\u001b[0;32m   1780\u001b[0m         \u001b[39m*\u001b[39m\u001b[39m*\u001b[39mkwargs,\n\u001b[0;32m   1781\u001b[0m     )\n\u001b[0;32m   1782\u001b[0m \u001b[39mexcept\u001b[39;00m \u001b[39mNotImplementedError\u001b[39;00m:\n\u001b[0;32m   1783\u001b[0m     \u001b[39m# generally if we have numeric_only=False\u001b[39;00m\n\u001b[0;32m   1784\u001b[0m     \u001b[39m# and non-applicable functions\u001b[39;00m\n\u001b[0;32m   1785\u001b[0m     \u001b[39m# try to python agg\u001b[39;00m\n\u001b[0;32m   1786\u001b[0m     \u001b[39m# TODO: shouldn't min_count matter?\u001b[39;00m\n",
      "File \u001b[1;32mc:\\Python310\\lib\\site-packages\\pandas\\core\\groupby\\ops.py:1040\u001b[0m, in \u001b[0;36mBaseGrouper._cython_operation\u001b[1;34m(self, kind, values, how, axis, min_count, **kwargs)\u001b[0m\n\u001b[0;32m   1039\u001b[0m ngroups \u001b[39m=\u001b[39m \u001b[39mself\u001b[39m\u001b[39m.\u001b[39mngroups\n\u001b[1;32m-> 1040\u001b[0m \u001b[39mreturn\u001b[39;00m cy_op\u001b[39m.\u001b[39mcython_operation(\n\u001b[0;32m   1041\u001b[0m     values\u001b[39m=\u001b[39mvalues,\n\u001b[0;32m   1042\u001b[0m     axis\u001b[39m=\u001b[39maxis,\n\u001b[0;32m   1043\u001b[0m     min_count\u001b[39m=\u001b[39mmin_count,\n\u001b[0;32m   1044\u001b[0m     comp_ids\u001b[39m=\u001b[39mids,\n\u001b[0;32m   1045\u001b[0m     ngroups\u001b[39m=\u001b[39mngroups,\n\u001b[0;32m   1046\u001b[0m     \u001b[39m*\u001b[39m\u001b[39m*\u001b[39mkwargs,\n\u001b[0;32m   1047\u001b[0m )\n",
      "File \u001b[1;32mc:\\Python310\\lib\\site-packages\\pandas\\core\\groupby\\ops.py:708\u001b[0m, in \u001b[0;36mWrappedCythonOp.cython_operation\u001b[1;34m(self, values, axis, min_count, comp_ids, ngroups, **kwargs)\u001b[0m\n\u001b[0;32m    700\u001b[0m     \u001b[39mreturn\u001b[39;00m \u001b[39mself\u001b[39m\u001b[39m.\u001b[39m_ea_wrap_cython_operation(\n\u001b[0;32m    701\u001b[0m         values,\n\u001b[0;32m    702\u001b[0m         min_count\u001b[39m=\u001b[39mmin_count,\n\u001b[1;32m   (...)\u001b[0m\n\u001b[0;32m    705\u001b[0m         \u001b[39m*\u001b[39m\u001b[39m*\u001b[39mkwargs,\n\u001b[0;32m    706\u001b[0m     )\n\u001b[1;32m--> 708\u001b[0m \u001b[39mreturn\u001b[39;00m \u001b[39mself\u001b[39m\u001b[39m.\u001b[39m_cython_op_ndim_compat(\n\u001b[0;32m    709\u001b[0m     values,\n\u001b[0;32m    710\u001b[0m     min_count\u001b[39m=\u001b[39mmin_count,\n\u001b[0;32m    711\u001b[0m     ngroups\u001b[39m=\u001b[39mngroups,\n\u001b[0;32m    712\u001b[0m     comp_ids\u001b[39m=\u001b[39mcomp_ids,\n\u001b[0;32m    713\u001b[0m     mask\u001b[39m=\u001b[39m\u001b[39mNone\u001b[39;00m,\n\u001b[0;32m    714\u001b[0m     \u001b[39m*\u001b[39m\u001b[39m*\u001b[39mkwargs,\n\u001b[0;32m    715\u001b[0m )\n",
      "File \u001b[1;32mc:\\Python310\\lib\\site-packages\\pandas\\core\\groupby\\ops.py:512\u001b[0m, in \u001b[0;36mWrappedCythonOp._cython_op_ndim_compat\u001b[1;34m(self, values, min_count, ngroups, comp_ids, mask, result_mask, **kwargs)\u001b[0m\n\u001b[0;32m    511\u001b[0m     result_mask \u001b[39m=\u001b[39m result_mask[\u001b[39mNone\u001b[39;00m, :]\n\u001b[1;32m--> 512\u001b[0m res \u001b[39m=\u001b[39m \u001b[39mself\u001b[39m\u001b[39m.\u001b[39m_call_cython_op(\n\u001b[0;32m    513\u001b[0m     values2d,\n\u001b[0;32m    514\u001b[0m     min_count\u001b[39m=\u001b[39mmin_count,\n\u001b[0;32m    515\u001b[0m     ngroups\u001b[39m=\u001b[39mngroups,\n\u001b[0;32m    516\u001b[0m     comp_ids\u001b[39m=\u001b[39mcomp_ids,\n\u001b[0;32m    517\u001b[0m     mask\u001b[39m=\u001b[39mmask,\n\u001b[0;32m    518\u001b[0m     result_mask\u001b[39m=\u001b[39mresult_mask,\n\u001b[0;32m    519\u001b[0m     \u001b[39m*\u001b[39m\u001b[39m*\u001b[39mkwargs,\n\u001b[0;32m    520\u001b[0m )\n\u001b[0;32m    521\u001b[0m \u001b[39mif\u001b[39;00m res\u001b[39m.\u001b[39mshape[\u001b[39m0\u001b[39m] \u001b[39m==\u001b[39m \u001b[39m1\u001b[39m:\n",
      "File \u001b[1;32mc:\\Python310\\lib\\site-packages\\pandas\\core\\groupby\\ops.py:571\u001b[0m, in \u001b[0;36mWrappedCythonOp._call_cython_op\u001b[1;34m(self, values, min_count, ngroups, comp_ids, mask, result_mask, **kwargs)\u001b[0m\n\u001b[0;32m    570\u001b[0m out_shape \u001b[39m=\u001b[39m \u001b[39mself\u001b[39m\u001b[39m.\u001b[39m_get_output_shape(ngroups, values)\n\u001b[1;32m--> 571\u001b[0m func \u001b[39m=\u001b[39m \u001b[39mself\u001b[39;49m\u001b[39m.\u001b[39;49m_get_cython_function(\u001b[39mself\u001b[39;49m\u001b[39m.\u001b[39;49mkind, \u001b[39mself\u001b[39;49m\u001b[39m.\u001b[39;49mhow, values\u001b[39m.\u001b[39;49mdtype, is_numeric)\n\u001b[0;32m    572\u001b[0m values \u001b[39m=\u001b[39m \u001b[39mself\u001b[39m\u001b[39m.\u001b[39m_get_cython_vals(values)\n",
      "File \u001b[1;32mc:\\Python310\\lib\\site-packages\\pandas\\core\\groupby\\ops.py:192\u001b[0m, in \u001b[0;36mWrappedCythonOp._get_cython_function\u001b[1;34m(cls, kind, how, dtype, is_numeric)\u001b[0m\n\u001b[0;32m    190\u001b[0m \u001b[39melif\u001b[39;00m \u001b[39m\"\u001b[39m\u001b[39mobject\u001b[39m\u001b[39m\"\u001b[39m \u001b[39mnot\u001b[39;00m \u001b[39min\u001b[39;00m f\u001b[39m.\u001b[39m__signatures__:\n\u001b[0;32m    191\u001b[0m     \u001b[39m# raise NotImplementedError here rather than TypeError later\u001b[39;00m\n\u001b[1;32m--> 192\u001b[0m     \u001b[39mraise\u001b[39;00m \u001b[39mNotImplementedError\u001b[39;00m(\n\u001b[0;32m    193\u001b[0m         \u001b[39mf\u001b[39m\u001b[39m\"\u001b[39m\u001b[39mfunction is not implemented for this dtype: \u001b[39m\u001b[39m\"\u001b[39m\n\u001b[0;32m    194\u001b[0m         \u001b[39mf\u001b[39m\u001b[39m\"\u001b[39m\u001b[39m[how->\u001b[39m\u001b[39m{\u001b[39;00mhow\u001b[39m}\u001b[39;00m\u001b[39m,dtype->\u001b[39m\u001b[39m{\u001b[39;00mdtype_str\u001b[39m}\u001b[39;00m\u001b[39m]\u001b[39m\u001b[39m\"\u001b[39m\n\u001b[0;32m    195\u001b[0m     )\n\u001b[0;32m    196\u001b[0m \u001b[39mreturn\u001b[39;00m f\n",
      "\u001b[1;31mNotImplementedError\u001b[0m: function is not implemented for this dtype: [how->mean,dtype->object]",
      "\nDuring handling of the above exception, another exception occurred:\n",
      "\u001b[1;31mValueError\u001b[0m                                Traceback (most recent call last)",
      "File \u001b[1;32mc:\\Python310\\lib\\site-packages\\pandas\\core\\nanops.py:1630\u001b[0m, in \u001b[0;36m_ensure_numeric\u001b[1;34m(x)\u001b[0m\n\u001b[0;32m   1629\u001b[0m \u001b[39mtry\u001b[39;00m:\n\u001b[1;32m-> 1630\u001b[0m     x \u001b[39m=\u001b[39m \u001b[39mfloat\u001b[39;49m(x)\n\u001b[0;32m   1631\u001b[0m \u001b[39mexcept\u001b[39;00m (\u001b[39mTypeError\u001b[39;00m, \u001b[39mValueError\u001b[39;00m):\n\u001b[0;32m   1632\u001b[0m     \u001b[39m# e.g. \"1+1j\" or \"foo\"\u001b[39;00m\n",
      "\u001b[1;31mValueError\u001b[0m: could not convert string to float: 'BrakingBrakingBrakingSteeringSteeringSteeringSteeringSteeringSteeringBrakingBrakingSteeringBrakingSteeringSteeringBrakingBrakingBrakingBrakingSteeringSteeringSteeringSteeringSteeringSteeringSteeringSteeringSteeringSteeringBrakingSteeringSteeringSteeringSteeringSteeringSteeringSteeringSteeringSteeringBrakingBrakingBrakingBrakingSteeringSteeringSteeringSteeringSteeringSteeringSteeringSteeringSteeringSteeringSteeringBrakingBrakingBrakingSteeringSteeringBrakingSteeringSteeringSteeringSteeringSteeringSteeringSteeringSteeringSteeringSteeringBrakingBrakingSteeringBrakingSteeringSteeringSteeringSteeringSteeringBrakingSteeringSteeringSteeringBrakingSteeringSteeringBrakingSteeringBrakingSteeringSteeringBrakingSteeringSteeringSteeringBrakingSteeringSteeringSteeringSteeringBrakingSteeringBrakingBrakingSteeringBrakingSteeringSteeringSteeringSteeringSteeringSteeringSteeringSteeringSteeringSteeringSteeringSteeringSteeringSteeringSteeringBrakingSteeringSteeringSteeringBrakingBrakingBrakingSteeringSteeringSteeringBrakingSteeringSteeringSteeringSteeringSteeringSteeringBrakingSteeringSteeringBrakingSteeringSteeringBrakingSteeringSteeringBrakingSteeringSteeringSteeringSteeringBrakingSteeringSteeringSteeringSteeringSteeringSteeringSteeringSteeringSteeringSteeringBrakingSteeringSteeringSteeringSteeringSteeringSteeringSteeringSteeringSteeringSteeringSteeringSteeringSteeringSteeringSteeringSteeringSteeringSteeringSteeringSteeringSteeringSteeringSteeringSteeringSteeringSteeringSteeringBrakingSteeringBrakingSteeringSteeringSteeringSteeringSteeringSteeringSteeringBrakingSteeringSteeringSteeringSteeringSteeringSteeringSteeringSteeringSteeringSteeringSteeringBrakingSteeringBrakingSteeringSteeringSteeringSteeringSteeringSteeringSteeringSteeringSteeringSteeringSteeringSteeringSteeringSteeringSteeringSteeringSteeringSteeringSteeringSteeringSteeringBrakingBrakingSteeringSteeringSteeringSteeringSteeringBrakingSteeringSteeringSteeringSteeringSteeringSteeringSteeringSteeringSteeringSteeringSteeringBrakingSteeringSteeringSteeringSteeringSteeringSteeringSteeringSteeringSteeringSteeringSteeringSteeringSteeringSteeringBrakingSteeringSteeringSteeringSteeringBrakingSteeringSteeringSteeringSteeringSteeringSteeringSteeringBrakingSteeringBrakingSteeringSteeringSteeringSteeringSteeringBrakingSteeringSteeringSteeringBrakingSteeringSteeringSteeringSteeringSteeringSteeringSteeringBrakingSteeringSteeringSteeringSteeringSteeringSteeringSteeringSteeringSteeringSteeringSteeringSteeringSteeringBrakingSteeringSteeringSteeringSteeringSteeringSteeringSteeringSteeringSteeringBrakingSteeringSteeringSteeringSteeringSteeringSteeringSteeringSteeringSteeringSteeringSteeringSteeringSteeringSteeringSteeringSteeringSteeringSteeringSteeringSteeringSteeringSteeringSteeringSteeringSteeringSteeringSteeringSteeringSteeringSteeringSteeringSteeringSteeringSteeringSteeringSteeringSteeringSteeringSteeringSteeringSteeringSteeringBrakingSteeringSteeringSteeringSteeringBrakingSteeringSteeringSteeringSteeringSteeringSteeringSteeringSteeringSteeringSteeringSteeringBrakingSteeringBrakingSteeringBrakingSteeringSteeringSteeringSteeringSteeringSteeringSteeringSteeringSteeringSteeringSteeringBrakingSteeringBrakingSteeringSteeringSteeringSteeringSteeringBrakingSteeringSteeringSteeringBrakingSteeringSteeringSteeringSteeringSteeringSteeringSteeringSteeringSteeringSteeringBrakingBrakingSteeringSteeringSteeringSteeringSteeringBrakingSteeringSteeringSteeringSteeringSteeringSteeringSteeringSteeringSteeringSteeringSteeringBrakingSteeringBrakingBrakingBrakingSteeringBrakingBrakingSteeringSteeringSteeringBrakingSteeringSteeringBrakingSteeringSteeringSteeringSteeringBrakingBrakingBrakingBrakingSteeringSteeringSteeringSteeringSteeringSteeringSteeringSteeringBrakingSteeringSteeringSteeringSteeringSteeringSteeringSteeringSteeringSteeringSteeringBrakingBrakingBrakingSteeringBrakingBrakingBrakingSteeringSteeringSteeringSteeringBrakingSteeringSteeringSteeringBrakingSteeringSteeringSteeringSteeringSteeringSteeringSteeringSteeringBrakingSteeringSteeringSteeringSteeringSteeringSteeringSteeringSteeringSteeringSteeringSteeringSteeringSteeringSteeringBrakingSteeringSteeringBrakingBrakingBrakingBrakingSteeringSteeringSteeringSteeringBrakingSteeringSteeringBrakingBrakingSteeringBrakingSteeringBrakingSteeringSteeringSteeringSteeringSteeringSteeringSteeringSteeringSteeringSteeringSteeringSteeringBrakingSteeringBrakingSteeringBrakingBrakingSteeringSteeringSteeringSteeringSteeringSteeringBrakingBrakingSteeringBrakingBrakingSteeringSteeringSteeringSteeringSteeringSteeringSteeringSteeringBrakingBrakingBrakingBrakingBrakingBrakingSteeringSteeringSteeringSteeringSteeringBrakingSteeringBrakingSteeringSteeringSteeringSteeringSteeringSteeringSteeringSteeringSteeringSteeringBrakingSteeringBrakingSteeringSteeringSteeringSteeringSteeringSteeringBrakingSteeringSteeringBrakingBrakingBrakingSteeringSteeringSteeringSteeringSteeringSteeringSteeringSteeringSteeringSteeringSteeringSteeringSteeringBrakingBrakingSteeringSteeringSteeringSteeringBrakingSteeringBrakingBrakingSteeringSteeringBrakingSteeringBrakingBrakingSteeringSteeringSteeringSteeringSteeringSteeringSteeringBrakingBrakingBrakingSteeringSteeringBrakingBrakingSteeringSteeringSteeringSteeringSteeringSteeringSteeringSteeringSteeringSteeringSteeringSteeringSteeringSteeringSteeringSteeringSteeringSteeringSteeringSteeringSteeringSteeringBrakingSteeringSteeringSteeringSteeringSteeringSteeringSteeringSteeringBrakingSteeringSteeringSteeringSteeringSteeringSteeringBrakingSteeringSteeringSteeringSteeringSteeringBrakingSteeringSteeringSteeringSteeringSteeringBrakingSteeringSteeringSteeringSteeringSteeringSteeringSteeringSteeringSteeringSteeringSteeringBrakingSteeringSteeringSteeringSteeringSteeringBrakingSteeringBrakingSteeringSteeringBrakingSteeringSteeringBrakingSteeringSteeringBrakingSteeringSteeringBrakingSteeringBrakingSteeringSteeringSteeringSteeringSteeringSteeringBrakingSteeringBrakingSteeringSteeringSteeringSteeringSteeringSteeringSteeringSteeringSteeringSteeringBrakingSteeringSteeringSteeringSteeringSteeringSteeringSteeringSteeringSteeringSteeringSteeringSteeringSteeringSteeringSteeringSteeringSteeringSteeringSteeringSteeringSteeringSteeringSteeringSteeringSteeringSteeringSteeringSteeringSteeringSteeringSteeringSteeringSteeringSteeringSteeringSteeringSteeringSteeringSteeringSteeringSteeringSteeringSteeringSteeringBrakingSteeringBrakingSteeringSteeringSteeringSteeringSteeringSteeringSteeringBrakingBrakingBrakingBrakingBrakingBrakingBrakingBrakingSteeringBrakingBrakingSteeringBrakingBrakingSteeringSteeringSteeringBrakingSteeringSteeringBrakingSteeringSteeringBrakingSteeringSteeringSteeringSteeringSteeringSteeringSteeringBrakingSteeringSteeringSteeringBrakingSteeringSteeringSteeringBrakingSteeringSteeringBrakingSteeringBrakingSteeringSteeringSteeringBrakingSteeringSteeringSteeringBrakingBrakingSteeringBrakingBrakingSteeringSteeringBrakingBrakingBrakingSteeringSteeringBrakingBrakingSteeringSteeringSteeringSteeringBrakingSteeringSteeringSteeringSteeringSteeringSteeringSteeringSteeringSteeringBrakingSteeringSteeringSteeringBrakingSteeringBrakingSteeringSteeringBrakingSteeringSteeringSteeringSteeringSteeringSteeringBrakingSteeringBrakingBrakingSteeringBrakingBrakingSteeringBrakingSteeringSteeringSteeringSteeringBrakingBrakingSteeringBrakingSteeringSteeringSteeringSteeringSteeringBrakingBrakingBrakingSteeringSteeringSteeringSteeringSteeringBrakingSteeringSteeringSteeringSteeringSteeringSteeringBrakingSteeringSteeringBrakingSteeringBrakingSteeringSteeringSteeringSteeringBrakingSteeringSteeringBrakingSteeringBrakingSteeringSteeringSteeringSteeringSteeringSteeringBrakingSteeringBrakingSteeringSteeringSteeringBrakingSteeringBrakingSteeringSteeringBrakingSteeringBrakingBrakingSteeringSteeringSteeringSteeringBrakingBrakingBrakingBrakingBrakingBrakingBrakingBrakingSteeringSteeringSteeringBrakingBrakingBrakingSteeringSteeringSteeringSteeringSteeringBrakingSteeringSteeringSteeringSteeringBrakingSteeringBrakingBrakingSteeringBrakingSteeringSteeringBrakingBrakingSteeringSteeringSteeringSteeringSteeringSteeringSteeringSteeringSteeringSteeringSteeringSteeringSteeringSteeringSteeringSteeringSteeringSteeringSteeringSteeringSteeringSteeringSteeringSteeringSteeringSteeringSteeringSteeringSteeringSteeringSteeringSteeringSteeringSteeringSteeringSteeringSteeringSteeringSteeringSteeringBrakingSteeringSteeringSteeringSteeringSteeringSteeringSteeringSteeringSteeringSteeringSteeringSteeringSteeringSteeringSteeringSteeringSteeringSteeringSteeringSteeringSteeringSteeringBrakingSteeringSteeringSteeringSteeringSteeringSteeringBrakingSteeringSteeringSteeringSteeringSteeringBrakingSteeringSteeringSteeringSteeringSteeringBrakingSteeringSteeringBrakingBrakingSteeringBrakingBrakingSteeringBrakingSteeringBrakingSteeringBrakingSteeringSteeringSteeringSteeringSteeringBrakingBrakingBrakingSteeringBrakingBrakingBrakingSteeringSteeringSteeringSteeringSteeringBrakingSteeringSteeringSteeringSteeringSteeringSteeringSteeringBrakingSteeringSteeringBrakingSteeringSteeringBrakingBrakingSteeringSteeringSteeringSteeringSteeringSteeringSteeringSteeringSteeringBrakingSteeringSteeringBrakingSteeringSteeringSteeringSteeringSteeringSteeringSteeringSteeringSteeringSteeringSteeringSteeringSteeringBrakingSteeringSteeringSteeringBrakingBrakingSteeringBrakingBrakingSteeringSteeringBrakingBrakingSteeringBrakingBrakingSteeringSteeringBrakingSteeringBrakingSteeringSteeringSteeringSteeringBrakingBrakingSteeringBrakingSteeringBrakingSteeringBrakingSteeringSteeringBrakingSteeringSteeringSteeringSteeringSteeringSteeringSteeringSteeringSteeringSteeringBrakingBrakingBrakingSteeringSteeringSteeringSteeringSteeringSteeringSteeringSteeringSteeringSteeringSteeringSteeringSteeringSteeringSteeringSteeringSteeringBrakingSteeringBrakingSteeringSteeringSteeringSteeringSteeringSteeringBrakingSteeringSteeringBrakingSteeringSteeringSteeringSteeringSteeringSteeringSteeringSteeringBrakingSteeringSteeringSteeringSteeringSteeringSteeringBrakingSteeringBrakingBrakingSteeringSteeringSteeringSteeringSteeringBrakingSteeringSteeringSteeringSteeringBrakingSteeringSteeringBrakingSteeringSteeringBrakingSteeringSteeringBrakingBrakingSteeringSteeringBrakingSteeringSteeringSteeringSteeringBrakingSteeringSteeringSteeringBrakingSteeringSteeringSteeringSteeringSteeringSteeringSteeringSteeringBrakingSteeringBrakingSteeringSteeringSteeringSteeringSteeringSteeringBrakingSteeringSteeringSteeringBrakingSteeringSteeringSteeringSteeringSteeringSteeringBrakingSteeringSteeringSteeringSteeringBrakingSteeringSteeringSteeringSteeringSteeringBrakingSteeringSteeringSteeringSteeringBrakingBrakingBrakingSteeringSteeringSteeringSteeringSteeringSteeringSteeringSteeringSteeringSteeringSteeringSteeringSteeringSteeringSteeringSteeringBrakingSteeringSteeringSteeringSteeringSteeringSteeringBrakingSteeringBrakingBrakingBrakingBrakingSteeringSteeringSteeringSteeringSteeringSteeringBrakingBrakingSteeringSteeringSteeringSteeringSteeringSteeringSteeringSteeringSteeringSteeringSteeringSteeringBrakingBrakingSteeringBrakingSteeringSteeringSteeringSteeringSteeringSteeringBrakingSteeringSteeringSteeringSteeringSteeringSteeringSteeringBrakingBrakingBrakingBrakingSteeringSteeringSteeringSteeringSteeringSteeringBrakingSteeringBrakingBrakingSteeringSteeringSteeringBrakingBrakingSteeringSteeringBrakingSteeringSteeringSteeringSteeringSteeringSteeringSteeringSteeringSteeringBrakingSteeringSteeringSteeringSteeringBrakingSteeringSteeringSteeringSteeringSteeringBrakingSteeringSteeringSteeringBrakingSteeringSteeringSteeringSteeringSteeringSteeringSteeringSteeringSteeringBrakingSteeringSteeringSteeringSteeringSteeringBrakingSteeringSteeringSteeringSteeringSteeringSteeringBrakingBrakingSteeringSteeringSteeringSteeringBrakingBrakingBrakingSteeringBrakingSteeringSteeringSteeringSteeringBrakingSteeringSteeringSteeringSteeringBrakingBrakingSteeringSteeringBrakingBrakingBrakingSteeringSteeringSteeringSteeringSteeringSteeringSteeringSteeringSteeringSteeringSteeringSteeringSteeringSteeringBrakingSteeringSteeringSteeringSteeringSteeringSteeringSteeringSteeringSteeringSteeringBrakingSteeringSteeringSteeringSteeringBrakingSteeringSteeringSteeringSteeringBrakingSteeringSteeringSteeringSteeringBrakingSteeringSteeringSteeringSteeringBrakingSteeringSteeringSteeringBrakingSteeringBrakingSteeringSteeringBrakingBrakingBrakingSteeringSteeringSteeringBrakingSteeringBrakingSteeringSteeringSteeringSteeringBrakingBrakingBrakingBrakingBrakingSteeringBrakingSteeringSteeringSteeringSteeringSteeringSteeringSteeringSteeringBrakingBrakingSteeringSteeringBrakingBrakingBrakingSteeringSteeringSteeringBrakingSteeringSteeringBrakingBrakingSteeringSteeringSteeringBrakingSteeringSteeringBrakingSteeringSteeringSteeringBrakingBrakingSteeringBrakingBrakingSteeringBrakingSteeringSteeringBrakingBrakingSteeringSteeringSteeringBrakingSteeringBrakingBrakingSteeringSteeringSteeringSteeringSteeringSteeringSteeringBrakingSteeringSteeringSteeringSteeringBrakingBrakingSteeringSteeringBrakingSteeringSteeringBrakingSteeringSteeringBrakingSteeringSteeringSteeringSteeringSteeringSteeringSteeringSteeringSteeringSteeringSteeringSteeringSteeringSteeringSteeringSteeringSteeringSteeringSteeringSteeringSteeringSteeringBrakingSteeringSteeringSteeringBrakingSteeringSteeringSteeringSteeringSteeringSteeringSteeringSteeringSteeringSteeringSteeringSteeringBrakingSteeringSteeringSteeringSteeringSteeringSteeringSteeringSteeringSteeringSteeringSteeringBrakingSteeringSteeringSteeringBrakingSteeringSteeringSteeringSteeringSteeringBrakingSteeringSteeringSteeringSteeringSteeringSteeringSteeringSteeringSteeringSteeringSteeringBrakingSteeringSteeringSteeringBrakingSteeringBrakingBrakingSteeringSteeringBrakingBrakingSteeringSteeringSteeringSteeringBrakingBrakingSteeringSteeringSteeringSteeringSteeringBrakingBrakingBrakingBrakingSteeringSteeringSteeringSteeringSteeringSteeringSteeringSteeringSteeringBrakingSteeringSteeringSteeringSteeringSteeringSteeringSteeringBrakingSteeringSteeringSteeringSteeringSteeringBrakingSteeringBrakingSteeringSteeringBrakingSteeringSteeringSteeringBrakingSteeringBrakingBrakingBrakingSteeringSteeringSteeringBrakingBrakingBrakingBrakingSteeringSteeringSteeringBrakingBrakingBrakingSteeringBrakingBrakingBrakingBrakingSteeringBrakingSteeringSteeringSteeringSteeringSteeringSteeringBrakingSteeringBrakingBrakingBrakingBrakingBrakingBrakingBrakingSteeringBrakingSteeringSteeringBrakingSteeringSteeringSteeringBrakingBrakingSteeringSteeringBrakingSteeringBrakingSteeringSteeringSteeringSteeringSteeringSteeringSteeringSteeringSteeringSteeringSteeringBrakingSteeringBrakingSteeringSteeringSteeringSteeringSteeringBrakingSteeringSteeringSteeringSteeringSteeringSteeringSteeringSteeringSteeringBrakingSteeringSteeringSteeringSteeringSteeringSteeringSteeringBrakingSteeringSteeringBrakingSteeringSteeringSteeringBrakingSteeringBrakingBrakingSteeringSteeringBrakingSteeringSteeringBrakingSteeringSteeringBrakingSteeringBrakingBrakingSteeringBrakingBrakingBrakingBrakingBrakingBrakingBrakingBrakingSteeringBrakingBrakingBrakingBrakingSteeringSteeringBrakingBrakingSteeringSteeringBrakingBrakingSteeringSteeringBrakingBrakingSteeringSteeringSteeringSteeringSteeringBrakingSteeringBrakingSteeringSteeringSteeringSteeringSteeringSteeringSteeringSteeringSteeringBrakingSteeringSteeringSteeringSteeringSteeringSteeringBrakingBrakingSteeringSteeringSteeringBrakingBrakingBrakingSteeringBrakingSteeringSteeringSteeringSteeringBrakingSteeringSteeringSteeringSteeringSteeringSteeringSteeringSteeringSteeringSteeringBrakingSteeringSteeringSteeringBrakingBrakingBrakingBrakingSteeringSteeringBrakingBrakingBrakingSteeringSteeringSteeringSteeringSteeringSteeringSteeringSteeringSteeringSteeringBrakingSteeringSteeringSteeringSteeringSteeringSteeringSteeringBrakingSteeringSteeringSteeringSteeringSteeringSteeringSteeringBrakingSteeringSteeringSteeringBrakingBrakingSteeringBrakingBrakingBrakingSteeringBrakingBrakingBrakingBrakingSteeringBrakingSteeringSteeringSteeringSteeringSteeringSteeringSteeringSteeringSteeringSteeringSteeringSteeringSteeringSteeringSteeringSteeringSteeringSteeringSteeringSteeringSteeringSteeringSteeringSteeringSteeringSteeringSteeringSteeringBrakingBrakingSteeringBrakingSteeringBrakingSteeringBrakingSteeringSteeringSteeringSteeringSteeringSteeringSteeringSteeringSteeringBrakingSteeringSteeringBrakingSteeringSteeringSteeringSteeringBrakingBrakingBrakingBrakingSteeringSteeringSteeringSteeringBrakingSteeringSteeringSteeringSteeringBrakingSteeringSteeringBrakingSteeringSteeringSteeringSteeringSteeringSteeringSteeringSteeringSteeringSteeringSteeringSteeringSteeringSteeringSteeringSteeringBrakingSteeringSteeringSteeringSteeringSteeringSteeringSteeringSteeringSteeringSteeringSteeringSteeringSteeringBrakingSteeringSteeringSteeringSteeringSteeringSteeringSteeringSteeringSteeringSteeringSteering'",
      "\nDuring handling of the above exception, another exception occurred:\n",
      "\u001b[1;31mValueError\u001b[0m                                Traceback (most recent call last)",
      "File \u001b[1;32mc:\\Python310\\lib\\site-packages\\pandas\\core\\nanops.py:1634\u001b[0m, in \u001b[0;36m_ensure_numeric\u001b[1;34m(x)\u001b[0m\n\u001b[0;32m   1633\u001b[0m \u001b[39mtry\u001b[39;00m:\n\u001b[1;32m-> 1634\u001b[0m     x \u001b[39m=\u001b[39m \u001b[39mcomplex\u001b[39;49m(x)\n\u001b[0;32m   1635\u001b[0m \u001b[39mexcept\u001b[39;00m \u001b[39mValueError\u001b[39;00m \u001b[39mas\u001b[39;00m err:\n\u001b[0;32m   1636\u001b[0m     \u001b[39m# e.g. \"foo\"\u001b[39;00m\n",
      "\u001b[1;31mValueError\u001b[0m: complex() arg is a malformed string",
      "\nThe above exception was the direct cause of the following exception:\n",
      "\u001b[1;31mTypeError\u001b[0m                                 Traceback (most recent call last)",
      "\u001b[1;32mc:\\Users\\User\\Documents\\GitHub\\python_CompassIoT_Capstone\\DD_graph-v2-13657919.ipynb Cell 14\u001b[0m line \u001b[0;36m9\n\u001b[0;32m      <a href='vscode-notebook-cell:/c%3A/Users/User/Documents/GitHub/python_CompassIoT_Capstone/DD_graph-v2-13657919.ipynb#X32sZmlsZQ%3D%3D?line=5'>6</a>\u001b[0m ddb[\u001b[39m'\u001b[39m\u001b[39my_acc_cluster\u001b[39m\u001b[39m'\u001b[39m] \u001b[39m=\u001b[39m ddb\u001b[39m.\u001b[39mgroupby(\u001b[39m'\u001b[39m\u001b[39mlocation_cluster\u001b[39m\u001b[39m'\u001b[39m)[\u001b[39m'\u001b[39m\u001b[39myacc\u001b[39m\u001b[39m'\u001b[39m]\u001b[39m.\u001b[39mtransform(\u001b[39m'\u001b[39m\u001b[39mmean\u001b[39m\u001b[39m'\u001b[39m)\n\u001b[0;32m      <a href='vscode-notebook-cell:/c%3A/Users/User/Documents/GitHub/python_CompassIoT_Capstone/DD_graph-v2-13657919.ipynb#X32sZmlsZQ%3D%3D?line=7'>8</a>\u001b[0m \u001b[39m# Group or cluster 'classification' within the location clusters (you can use other aggregation functions)\u001b[39;00m\n\u001b[1;32m----> <a href='vscode-notebook-cell:/c%3A/Users/User/Documents/GitHub/python_CompassIoT_Capstone/DD_graph-v2-13657919.ipynb#X32sZmlsZQ%3D%3D?line=8'>9</a>\u001b[0m ddb[\u001b[39m'\u001b[39m\u001b[39mclassification_cluster\u001b[39m\u001b[39m'\u001b[39m] \u001b[39m=\u001b[39m ddb\u001b[39m.\u001b[39mgroupby(\u001b[39m'\u001b[39m\u001b[39mlocation_cluster\u001b[39m\u001b[39m'\u001b[39m)[\u001b[39m'\u001b[39m\u001b[39mclassification\u001b[39m\u001b[39m'\u001b[39m]\u001b[39m.\u001b[39mtransform(\u001b[39m'\u001b[39m\u001b[39mmean\u001b[39m\u001b[39m'\u001b[39m)\n",
      "File \u001b[1;32mc:\\Python310\\lib\\site-packages\\pandas\\core\\groupby\\generic.py:446\u001b[0m, in \u001b[0;36mSeriesGroupBy.transform\u001b[1;34m(self, func, engine, engine_kwargs, *args, **kwargs)\u001b[0m\n\u001b[0;32m    443\u001b[0m \u001b[39m@Substitution\u001b[39m(klass\u001b[39m=\u001b[39m\u001b[39m\"\u001b[39m\u001b[39mSeries\u001b[39m\u001b[39m\"\u001b[39m)\n\u001b[0;32m    444\u001b[0m \u001b[39m@Appender\u001b[39m(_transform_template)\n\u001b[0;32m    445\u001b[0m \u001b[39mdef\u001b[39;00m \u001b[39mtransform\u001b[39m(\u001b[39mself\u001b[39m, func, \u001b[39m*\u001b[39margs, engine\u001b[39m=\u001b[39m\u001b[39mNone\u001b[39;00m, engine_kwargs\u001b[39m=\u001b[39m\u001b[39mNone\u001b[39;00m, \u001b[39m*\u001b[39m\u001b[39m*\u001b[39mkwargs):\n\u001b[1;32m--> 446\u001b[0m     \u001b[39mreturn\u001b[39;00m \u001b[39mself\u001b[39m\u001b[39m.\u001b[39m_transform(\n\u001b[0;32m    447\u001b[0m         func, \u001b[39m*\u001b[39margs, engine\u001b[39m=\u001b[39mengine, engine_kwargs\u001b[39m=\u001b[39mengine_kwargs, \u001b[39m*\u001b[39m\u001b[39m*\u001b[39mkwargs\n\u001b[0;32m    448\u001b[0m     )\n",
      "File \u001b[1;32mc:\\Python310\\lib\\site-packages\\pandas\\core\\groupby\\groupby.py:1852\u001b[0m, in \u001b[0;36mGroupBy._transform\u001b[1;34m(self, func, engine, engine_kwargs, *args, **kwargs)\u001b[0m\n\u001b[0;32m   1843\u001b[0m \u001b[39melse\u001b[39;00m:\n\u001b[0;32m   1844\u001b[0m     \u001b[39m# i.e. func in base.reduction_kernels\u001b[39;00m\n\u001b[0;32m   1845\u001b[0m \n\u001b[1;32m   (...)\u001b[0m\n\u001b[0;32m   1849\u001b[0m     \u001b[39m# and deal with possible broadcasting below.\u001b[39;00m\n\u001b[0;32m   1850\u001b[0m     \u001b[39m# Temporarily set observed for dealing with categoricals.\u001b[39;00m\n\u001b[0;32m   1851\u001b[0m     \u001b[39mwith\u001b[39;00m com\u001b[39m.\u001b[39mtemp_setattr(\u001b[39mself\u001b[39m, \u001b[39m\"\u001b[39m\u001b[39mobserved\u001b[39m\u001b[39m\"\u001b[39m, \u001b[39mTrue\u001b[39;00m):\n\u001b[1;32m-> 1852\u001b[0m         result \u001b[39m=\u001b[39m \u001b[39mgetattr\u001b[39m(\u001b[39mself\u001b[39m, func)(\u001b[39m*\u001b[39margs, \u001b[39m*\u001b[39m\u001b[39m*\u001b[39mkwargs)\n\u001b[0;32m   1854\u001b[0m     \u001b[39mreturn\u001b[39;00m \u001b[39mself\u001b[39m\u001b[39m.\u001b[39m_wrap_transform_fast_result(result)\n",
      "File \u001b[1;32mc:\\Python310\\lib\\site-packages\\pandas\\core\\groupby\\groupby.py:2161\u001b[0m, in \u001b[0;36mGroupBy.mean\u001b[1;34m(self, numeric_only, engine, engine_kwargs)\u001b[0m\n\u001b[0;32m   2159\u001b[0m     \u001b[39mreturn\u001b[39;00m \u001b[39mself\u001b[39m\u001b[39m.\u001b[39m_numba_agg_general(sliding_mean, engine_kwargs)\n\u001b[0;32m   2160\u001b[0m \u001b[39melse\u001b[39;00m:\n\u001b[1;32m-> 2161\u001b[0m     result \u001b[39m=\u001b[39m \u001b[39mself\u001b[39;49m\u001b[39m.\u001b[39;49m_cython_agg_general(\n\u001b[0;32m   2162\u001b[0m         \u001b[39m\"\u001b[39;49m\u001b[39mmean\u001b[39;49m\u001b[39m\"\u001b[39;49m,\n\u001b[0;32m   2163\u001b[0m         alt\u001b[39m=\u001b[39;49m\u001b[39mlambda\u001b[39;49;00m x: Series(x)\u001b[39m.\u001b[39;49mmean(numeric_only\u001b[39m=\u001b[39;49mnumeric_only_bool),\n\u001b[0;32m   2164\u001b[0m         numeric_only\u001b[39m=\u001b[39;49mnumeric_only,\n\u001b[0;32m   2165\u001b[0m     )\n\u001b[0;32m   2166\u001b[0m     \u001b[39mreturn\u001b[39;00m result\u001b[39m.\u001b[39m__finalize__(\u001b[39mself\u001b[39m\u001b[39m.\u001b[39mobj, method\u001b[39m=\u001b[39m\u001b[39m\"\u001b[39m\u001b[39mgroupby\u001b[39m\u001b[39m\"\u001b[39m)\n",
      "File \u001b[1;32mc:\\Python310\\lib\\site-packages\\pandas\\core\\groupby\\groupby.py:1793\u001b[0m, in \u001b[0;36mGroupBy._cython_agg_general\u001b[1;34m(self, how, alt, numeric_only, min_count, ignore_failures, **kwargs)\u001b[0m\n\u001b[0;32m   1789\u001b[0m     \u001b[39mreturn\u001b[39;00m result\n\u001b[0;32m   1791\u001b[0m \u001b[39m# TypeError -> we may have an exception in trying to aggregate\u001b[39;00m\n\u001b[0;32m   1792\u001b[0m \u001b[39m#  continue and exclude the block\u001b[39;00m\n\u001b[1;32m-> 1793\u001b[0m new_mgr \u001b[39m=\u001b[39m data\u001b[39m.\u001b[39;49mgrouped_reduce(array_func, ignore_failures\u001b[39m=\u001b[39;49mignore_failures)\n\u001b[0;32m   1795\u001b[0m \u001b[39mif\u001b[39;00m \u001b[39mnot\u001b[39;00m is_ser \u001b[39mand\u001b[39;00m \u001b[39mlen\u001b[39m(new_mgr) \u001b[39m<\u001b[39m orig_len:\n\u001b[0;32m   1796\u001b[0m     warn_dropping_nuisance_columns_deprecated(\u001b[39mtype\u001b[39m(\u001b[39mself\u001b[39m), how, numeric_only)\n",
      "File \u001b[1;32mc:\\Python310\\lib\\site-packages\\pandas\\core\\internals\\base.py:199\u001b[0m, in \u001b[0;36mSingleDataManager.grouped_reduce\u001b[1;34m(self, func, ignore_failures)\u001b[0m\n\u001b[0;32m    193\u001b[0m \u001b[39m\"\"\"\u001b[39;00m\n\u001b[0;32m    194\u001b[0m \u001b[39mignore_failures : bool, default False\u001b[39;00m\n\u001b[0;32m    195\u001b[0m \u001b[39m    Not used; for compatibility with ArrayManager/BlockManager.\u001b[39;00m\n\u001b[0;32m    196\u001b[0m \u001b[39m\"\"\"\u001b[39;00m\n\u001b[0;32m    198\u001b[0m arr \u001b[39m=\u001b[39m \u001b[39mself\u001b[39m\u001b[39m.\u001b[39marray\n\u001b[1;32m--> 199\u001b[0m res \u001b[39m=\u001b[39m func(arr)\n\u001b[0;32m    200\u001b[0m index \u001b[39m=\u001b[39m default_index(\u001b[39mlen\u001b[39m(res))\n\u001b[0;32m    202\u001b[0m mgr \u001b[39m=\u001b[39m \u001b[39mtype\u001b[39m(\u001b[39mself\u001b[39m)\u001b[39m.\u001b[39mfrom_array(res, index)\n",
      "File \u001b[1;32mc:\\Python310\\lib\\site-packages\\pandas\\core\\groupby\\groupby.py:1787\u001b[0m, in \u001b[0;36mGroupBy._cython_agg_general.<locals>.array_func\u001b[1;34m(values)\u001b[0m\n\u001b[0;32m   1774\u001b[0m     result \u001b[39m=\u001b[39m \u001b[39mself\u001b[39m\u001b[39m.\u001b[39mgrouper\u001b[39m.\u001b[39m_cython_operation(\n\u001b[0;32m   1775\u001b[0m         \u001b[39m\"\u001b[39m\u001b[39maggregate\u001b[39m\u001b[39m\"\u001b[39m,\n\u001b[0;32m   1776\u001b[0m         values,\n\u001b[1;32m   (...)\u001b[0m\n\u001b[0;32m   1780\u001b[0m         \u001b[39m*\u001b[39m\u001b[39m*\u001b[39mkwargs,\n\u001b[0;32m   1781\u001b[0m     )\n\u001b[0;32m   1782\u001b[0m \u001b[39mexcept\u001b[39;00m \u001b[39mNotImplementedError\u001b[39;00m:\n\u001b[0;32m   1783\u001b[0m     \u001b[39m# generally if we have numeric_only=False\u001b[39;00m\n\u001b[0;32m   1784\u001b[0m     \u001b[39m# and non-applicable functions\u001b[39;00m\n\u001b[0;32m   1785\u001b[0m     \u001b[39m# try to python agg\u001b[39;00m\n\u001b[0;32m   1786\u001b[0m     \u001b[39m# TODO: shouldn't min_count matter?\u001b[39;00m\n\u001b[1;32m-> 1787\u001b[0m     result \u001b[39m=\u001b[39m \u001b[39mself\u001b[39;49m\u001b[39m.\u001b[39;49m_agg_py_fallback(values, ndim\u001b[39m=\u001b[39;49mdata\u001b[39m.\u001b[39;49mndim, alt\u001b[39m=\u001b[39;49malt)\n\u001b[0;32m   1789\u001b[0m \u001b[39mreturn\u001b[39;00m result\n",
      "File \u001b[1;32mc:\\Python310\\lib\\site-packages\\pandas\\core\\groupby\\groupby.py:1728\u001b[0m, in \u001b[0;36mGroupBy._agg_py_fallback\u001b[1;34m(self, values, ndim, alt)\u001b[0m\n\u001b[0;32m   1723\u001b[0m     ser \u001b[39m=\u001b[39m df\u001b[39m.\u001b[39miloc[:, \u001b[39m0\u001b[39m]\n\u001b[0;32m   1725\u001b[0m \u001b[39m# We do not get here with UDFs, so we know that our dtype\u001b[39;00m\n\u001b[0;32m   1726\u001b[0m \u001b[39m#  should always be preserved by the implemented aggregations\u001b[39;00m\n\u001b[0;32m   1727\u001b[0m \u001b[39m# TODO: Is this exactly right; see WrappedCythonOp get_result_dtype?\u001b[39;00m\n\u001b[1;32m-> 1728\u001b[0m res_values \u001b[39m=\u001b[39m \u001b[39mself\u001b[39;49m\u001b[39m.\u001b[39;49mgrouper\u001b[39m.\u001b[39;49magg_series(ser, alt, preserve_dtype\u001b[39m=\u001b[39;49m\u001b[39mTrue\u001b[39;49;00m)\n\u001b[0;32m   1730\u001b[0m \u001b[39mif\u001b[39;00m \u001b[39misinstance\u001b[39m(values, Categorical):\n\u001b[0;32m   1731\u001b[0m     \u001b[39m# Because we only get here with known dtype-preserving\u001b[39;00m\n\u001b[0;32m   1732\u001b[0m     \u001b[39m#  reductions, we cast back to Categorical.\u001b[39;00m\n\u001b[0;32m   1733\u001b[0m     \u001b[39m# TODO: if we ever get \"rank\" working, exclude it here.\u001b[39;00m\n\u001b[0;32m   1734\u001b[0m     res_values \u001b[39m=\u001b[39m \u001b[39mtype\u001b[39m(values)\u001b[39m.\u001b[39m_from_sequence(res_values, dtype\u001b[39m=\u001b[39mvalues\u001b[39m.\u001b[39mdtype)\n",
      "File \u001b[1;32mc:\\Python310\\lib\\site-packages\\pandas\\core\\groupby\\ops.py:1082\u001b[0m, in \u001b[0;36mBaseGrouper.agg_series\u001b[1;34m(self, obj, func, preserve_dtype)\u001b[0m\n\u001b[0;32m   1079\u001b[0m     preserve_dtype \u001b[39m=\u001b[39m \u001b[39mTrue\u001b[39;00m\n\u001b[0;32m   1081\u001b[0m \u001b[39melse\u001b[39;00m:\n\u001b[1;32m-> 1082\u001b[0m     result \u001b[39m=\u001b[39m \u001b[39mself\u001b[39;49m\u001b[39m.\u001b[39;49m_aggregate_series_pure_python(obj, func)\n\u001b[0;32m   1084\u001b[0m npvalues \u001b[39m=\u001b[39m lib\u001b[39m.\u001b[39mmaybe_convert_objects(result, try_float\u001b[39m=\u001b[39m\u001b[39mFalse\u001b[39;00m)\n\u001b[0;32m   1085\u001b[0m \u001b[39mif\u001b[39;00m preserve_dtype:\n",
      "File \u001b[1;32mc:\\Python310\\lib\\site-packages\\pandas\\core\\groupby\\ops.py:1105\u001b[0m, in \u001b[0;36mBaseGrouper._aggregate_series_pure_python\u001b[1;34m(self, obj, func)\u001b[0m\n\u001b[0;32m   1102\u001b[0m splitter \u001b[39m=\u001b[39m get_splitter(obj, ids, ngroups, axis\u001b[39m=\u001b[39m\u001b[39m0\u001b[39m)\n\u001b[0;32m   1104\u001b[0m \u001b[39mfor\u001b[39;00m i, group \u001b[39min\u001b[39;00m \u001b[39menumerate\u001b[39m(splitter):\n\u001b[1;32m-> 1105\u001b[0m     res \u001b[39m=\u001b[39m func(group)\n\u001b[0;32m   1106\u001b[0m     res \u001b[39m=\u001b[39m libreduction\u001b[39m.\u001b[39mextract_result(res)\n\u001b[0;32m   1108\u001b[0m     \u001b[39mif\u001b[39;00m \u001b[39mnot\u001b[39;00m initialized:\n\u001b[0;32m   1109\u001b[0m         \u001b[39m# We only do this validation on the first iteration\u001b[39;00m\n",
      "File \u001b[1;32mc:\\Python310\\lib\\site-packages\\pandas\\core\\groupby\\groupby.py:2163\u001b[0m, in \u001b[0;36mGroupBy.mean.<locals>.<lambda>\u001b[1;34m(x)\u001b[0m\n\u001b[0;32m   2159\u001b[0m     \u001b[39mreturn\u001b[39;00m \u001b[39mself\u001b[39m\u001b[39m.\u001b[39m_numba_agg_general(sliding_mean, engine_kwargs)\n\u001b[0;32m   2160\u001b[0m \u001b[39melse\u001b[39;00m:\n\u001b[0;32m   2161\u001b[0m     result \u001b[39m=\u001b[39m \u001b[39mself\u001b[39m\u001b[39m.\u001b[39m_cython_agg_general(\n\u001b[0;32m   2162\u001b[0m         \u001b[39m\"\u001b[39m\u001b[39mmean\u001b[39m\u001b[39m\"\u001b[39m,\n\u001b[1;32m-> 2163\u001b[0m         alt\u001b[39m=\u001b[39m\u001b[39mlambda\u001b[39;00m x: Series(x)\u001b[39m.\u001b[39;49mmean(numeric_only\u001b[39m=\u001b[39;49mnumeric_only_bool),\n\u001b[0;32m   2164\u001b[0m         numeric_only\u001b[39m=\u001b[39mnumeric_only,\n\u001b[0;32m   2165\u001b[0m     )\n\u001b[0;32m   2166\u001b[0m     \u001b[39mreturn\u001b[39;00m result\u001b[39m.\u001b[39m__finalize__(\u001b[39mself\u001b[39m\u001b[39m.\u001b[39mobj, method\u001b[39m=\u001b[39m\u001b[39m\"\u001b[39m\u001b[39mgroupby\u001b[39m\u001b[39m\"\u001b[39m)\n",
      "File \u001b[1;32mc:\\Python310\\lib\\site-packages\\pandas\\core\\generic.py:11856\u001b[0m, in \u001b[0;36mNDFrame._add_numeric_operations.<locals>.mean\u001b[1;34m(self, axis, skipna, level, numeric_only, **kwargs)\u001b[0m\n\u001b[0;32m  11838\u001b[0m \u001b[39m@doc\u001b[39m(\n\u001b[0;32m  11839\u001b[0m     _num_doc,\n\u001b[0;32m  11840\u001b[0m     desc\u001b[39m=\u001b[39m\u001b[39m\"\u001b[39m\u001b[39mReturn the mean of the values over the requested axis.\u001b[39m\u001b[39m\"\u001b[39m,\n\u001b[1;32m   (...)\u001b[0m\n\u001b[0;32m  11854\u001b[0m     \u001b[39m*\u001b[39m\u001b[39m*\u001b[39mkwargs,\n\u001b[0;32m  11855\u001b[0m ):\n\u001b[1;32m> 11856\u001b[0m     \u001b[39mreturn\u001b[39;00m NDFrame\u001b[39m.\u001b[39mmean(\u001b[39mself\u001b[39m, axis, skipna, level, numeric_only, \u001b[39m*\u001b[39m\u001b[39m*\u001b[39mkwargs)\n",
      "File \u001b[1;32mc:\\Python310\\lib\\site-packages\\pandas\\core\\generic.py:11408\u001b[0m, in \u001b[0;36mNDFrame.mean\u001b[1;34m(self, axis, skipna, level, numeric_only, **kwargs)\u001b[0m\n\u001b[0;32m  11400\u001b[0m \u001b[39mdef\u001b[39;00m \u001b[39mmean\u001b[39m(\n\u001b[0;32m  11401\u001b[0m     \u001b[39mself\u001b[39m,\n\u001b[0;32m  11402\u001b[0m     axis: Axis \u001b[39m|\u001b[39m \u001b[39mNone\u001b[39;00m \u001b[39m|\u001b[39m lib\u001b[39m.\u001b[39mNoDefault \u001b[39m=\u001b[39m lib\u001b[39m.\u001b[39mno_default,\n\u001b[1;32m   (...)\u001b[0m\n\u001b[0;32m  11406\u001b[0m     \u001b[39m*\u001b[39m\u001b[39m*\u001b[39mkwargs,\n\u001b[0;32m  11407\u001b[0m ) \u001b[39m-\u001b[39m\u001b[39m>\u001b[39m Series \u001b[39m|\u001b[39m \u001b[39mfloat\u001b[39m:\n\u001b[1;32m> 11408\u001b[0m     \u001b[39mreturn\u001b[39;00m \u001b[39mself\u001b[39m\u001b[39m.\u001b[39m_stat_function(\n\u001b[0;32m  11409\u001b[0m         \u001b[39m\"\u001b[39m\u001b[39mmean\u001b[39m\u001b[39m\"\u001b[39m, nanops\u001b[39m.\u001b[39mnanmean, axis, skipna, level, numeric_only, \u001b[39m*\u001b[39m\u001b[39m*\u001b[39mkwargs\n\u001b[0;32m  11410\u001b[0m     )\n",
      "File \u001b[1;32mc:\\Python310\\lib\\site-packages\\pandas\\core\\generic.py:11360\u001b[0m, in \u001b[0;36mNDFrame._stat_function\u001b[1;34m(self, name, func, axis, skipna, level, numeric_only, **kwargs)\u001b[0m\n\u001b[0;32m  11350\u001b[0m     warnings\u001b[39m.\u001b[39mwarn(\n\u001b[0;32m  11351\u001b[0m         \u001b[39m\"\u001b[39m\u001b[39mUsing the level keyword in DataFrame and Series aggregations is \u001b[39m\u001b[39m\"\u001b[39m\n\u001b[0;32m  11352\u001b[0m         \u001b[39m\"\u001b[39m\u001b[39mdeprecated and will be removed in a future version. Use groupby \u001b[39m\u001b[39m\"\u001b[39m\n\u001b[1;32m   (...)\u001b[0m\n\u001b[0;32m  11355\u001b[0m         stacklevel\u001b[39m=\u001b[39mfind_stack_level(inspect\u001b[39m.\u001b[39mcurrentframe()),\n\u001b[0;32m  11356\u001b[0m     )\n\u001b[0;32m  11357\u001b[0m     \u001b[39mreturn\u001b[39;00m \u001b[39mself\u001b[39m\u001b[39m.\u001b[39m_agg_by_level(\n\u001b[0;32m  11358\u001b[0m         name, axis\u001b[39m=\u001b[39maxis, level\u001b[39m=\u001b[39mlevel, skipna\u001b[39m=\u001b[39mskipna, numeric_only\u001b[39m=\u001b[39mnumeric_only\n\u001b[0;32m  11359\u001b[0m     )\n\u001b[1;32m> 11360\u001b[0m \u001b[39mreturn\u001b[39;00m \u001b[39mself\u001b[39;49m\u001b[39m.\u001b[39;49m_reduce(\n\u001b[0;32m  11361\u001b[0m     func, name\u001b[39m=\u001b[39;49mname, axis\u001b[39m=\u001b[39;49maxis, skipna\u001b[39m=\u001b[39;49mskipna, numeric_only\u001b[39m=\u001b[39;49mnumeric_only\n\u001b[0;32m  11362\u001b[0m )\n",
      "File \u001b[1;32mc:\\Python310\\lib\\site-packages\\pandas\\core\\series.py:4819\u001b[0m, in \u001b[0;36mSeries._reduce\u001b[1;34m(self, op, name, axis, skipna, numeric_only, filter_type, **kwds)\u001b[0m\n\u001b[0;32m   4815\u001b[0m     \u001b[39mraise\u001b[39;00m \u001b[39mNotImplementedError\u001b[39;00m(\n\u001b[0;32m   4816\u001b[0m         \u001b[39mf\u001b[39m\u001b[39m\"\u001b[39m\u001b[39mSeries.\u001b[39m\u001b[39m{\u001b[39;00mname\u001b[39m}\u001b[39;00m\u001b[39m does not implement \u001b[39m\u001b[39m{\u001b[39;00mkwd_name\u001b[39m}\u001b[39;00m\u001b[39m.\u001b[39m\u001b[39m\"\u001b[39m\n\u001b[0;32m   4817\u001b[0m     )\n\u001b[0;32m   4818\u001b[0m \u001b[39mwith\u001b[39;00m np\u001b[39m.\u001b[39merrstate(\u001b[39mall\u001b[39m\u001b[39m=\u001b[39m\u001b[39m\"\u001b[39m\u001b[39mignore\u001b[39m\u001b[39m\"\u001b[39m):\n\u001b[1;32m-> 4819\u001b[0m     \u001b[39mreturn\u001b[39;00m op(delegate, skipna\u001b[39m=\u001b[39mskipna, \u001b[39m*\u001b[39m\u001b[39m*\u001b[39mkwds)\n",
      "File \u001b[1;32mc:\\Python310\\lib\\site-packages\\pandas\\core\\nanops.py:93\u001b[0m, in \u001b[0;36mdisallow.__call__.<locals>._f\u001b[1;34m(*args, **kwargs)\u001b[0m\n\u001b[0;32m     91\u001b[0m \u001b[39mtry\u001b[39;00m:\n\u001b[0;32m     92\u001b[0m     \u001b[39mwith\u001b[39;00m np\u001b[39m.\u001b[39merrstate(invalid\u001b[39m=\u001b[39m\u001b[39m\"\u001b[39m\u001b[39mignore\u001b[39m\u001b[39m\"\u001b[39m):\n\u001b[1;32m---> 93\u001b[0m         \u001b[39mreturn\u001b[39;00m f(\u001b[39m*\u001b[39margs, \u001b[39m*\u001b[39m\u001b[39m*\u001b[39mkwargs)\n\u001b[0;32m     94\u001b[0m \u001b[39mexcept\u001b[39;00m \u001b[39mValueError\u001b[39;00m \u001b[39mas\u001b[39;00m e:\n\u001b[0;32m     95\u001b[0m     \u001b[39m# we want to transform an object array\u001b[39;00m\n\u001b[0;32m     96\u001b[0m     \u001b[39m# ValueError message to the more typical TypeError\u001b[39;00m\n\u001b[0;32m     97\u001b[0m     \u001b[39m# e.g. this is normally a disallowed function on\u001b[39;00m\n\u001b[0;32m     98\u001b[0m     \u001b[39m# object arrays that contain strings\u001b[39;00m\n\u001b[0;32m     99\u001b[0m     \u001b[39mif\u001b[39;00m is_object_dtype(args[\u001b[39m0\u001b[39m]):\n",
      "File \u001b[1;32mc:\\Python310\\lib\\site-packages\\pandas\\core\\nanops.py:155\u001b[0m, in \u001b[0;36mbottleneck_switch.__call__.<locals>.f\u001b[1;34m(values, axis, skipna, **kwds)\u001b[0m\n\u001b[0;32m    153\u001b[0m         result \u001b[39m=\u001b[39m alt(values, axis\u001b[39m=\u001b[39maxis, skipna\u001b[39m=\u001b[39mskipna, \u001b[39m*\u001b[39m\u001b[39m*\u001b[39mkwds)\n\u001b[0;32m    154\u001b[0m \u001b[39melse\u001b[39;00m:\n\u001b[1;32m--> 155\u001b[0m     result \u001b[39m=\u001b[39m alt(values, axis\u001b[39m=\u001b[39maxis, skipna\u001b[39m=\u001b[39mskipna, \u001b[39m*\u001b[39m\u001b[39m*\u001b[39mkwds)\n\u001b[0;32m    157\u001b[0m \u001b[39mreturn\u001b[39;00m result\n",
      "File \u001b[1;32mc:\\Python310\\lib\\site-packages\\pandas\\core\\nanops.py:418\u001b[0m, in \u001b[0;36m_datetimelike_compat.<locals>.new_func\u001b[1;34m(values, axis, skipna, mask, **kwargs)\u001b[0m\n\u001b[0;32m    415\u001b[0m \u001b[39mif\u001b[39;00m datetimelike \u001b[39mand\u001b[39;00m mask \u001b[39mis\u001b[39;00m \u001b[39mNone\u001b[39;00m:\n\u001b[0;32m    416\u001b[0m     mask \u001b[39m=\u001b[39m isna(values)\n\u001b[1;32m--> 418\u001b[0m result \u001b[39m=\u001b[39m func(values, axis\u001b[39m=\u001b[39maxis, skipna\u001b[39m=\u001b[39mskipna, mask\u001b[39m=\u001b[39mmask, \u001b[39m*\u001b[39m\u001b[39m*\u001b[39mkwargs)\n\u001b[0;32m    420\u001b[0m \u001b[39mif\u001b[39;00m datetimelike:\n\u001b[0;32m    421\u001b[0m     result \u001b[39m=\u001b[39m _wrap_results(result, orig_values\u001b[39m.\u001b[39mdtype, fill_value\u001b[39m=\u001b[39miNaT)\n",
      "File \u001b[1;32mc:\\Python310\\lib\\site-packages\\pandas\\core\\nanops.py:706\u001b[0m, in \u001b[0;36mnanmean\u001b[1;34m(values, axis, skipna, mask)\u001b[0m\n\u001b[0;32m    703\u001b[0m     dtype_count \u001b[39m=\u001b[39m dtype\n\u001b[0;32m    705\u001b[0m count \u001b[39m=\u001b[39m _get_counts(values\u001b[39m.\u001b[39mshape, mask, axis, dtype\u001b[39m=\u001b[39mdtype_count)\n\u001b[1;32m--> 706\u001b[0m the_sum \u001b[39m=\u001b[39m _ensure_numeric(values\u001b[39m.\u001b[39;49msum(axis, dtype\u001b[39m=\u001b[39;49mdtype_sum))\n\u001b[0;32m    708\u001b[0m \u001b[39mif\u001b[39;00m axis \u001b[39mis\u001b[39;00m \u001b[39mnot\u001b[39;00m \u001b[39mNone\u001b[39;00m \u001b[39mand\u001b[39;00m \u001b[39mgetattr\u001b[39m(the_sum, \u001b[39m\"\u001b[39m\u001b[39mndim\u001b[39m\u001b[39m\"\u001b[39m, \u001b[39mFalse\u001b[39;00m):\n\u001b[0;32m    709\u001b[0m     count \u001b[39m=\u001b[39m cast(np\u001b[39m.\u001b[39mndarray, count)\n",
      "File \u001b[1;32mc:\\Python310\\lib\\site-packages\\pandas\\core\\nanops.py:1637\u001b[0m, in \u001b[0;36m_ensure_numeric\u001b[1;34m(x)\u001b[0m\n\u001b[0;32m   1634\u001b[0m             x \u001b[39m=\u001b[39m \u001b[39mcomplex\u001b[39m(x)\n\u001b[0;32m   1635\u001b[0m         \u001b[39mexcept\u001b[39;00m \u001b[39mValueError\u001b[39;00m \u001b[39mas\u001b[39;00m err:\n\u001b[0;32m   1636\u001b[0m             \u001b[39m# e.g. \"foo\"\u001b[39;00m\n\u001b[1;32m-> 1637\u001b[0m             \u001b[39mraise\u001b[39;00m \u001b[39mTypeError\u001b[39;00m(\u001b[39mf\u001b[39m\u001b[39m\"\u001b[39m\u001b[39mCould not convert \u001b[39m\u001b[39m{\u001b[39;00mx\u001b[39m}\u001b[39;00m\u001b[39m to numeric\u001b[39m\u001b[39m\"\u001b[39m) \u001b[39mfrom\u001b[39;00m \u001b[39merr\u001b[39;00m\n\u001b[0;32m   1638\u001b[0m \u001b[39mreturn\u001b[39;00m x\n",
      "\u001b[1;31mTypeError\u001b[0m: Could not convert BrakingBrakingBrakingSteeringSteeringSteeringSteeringSteeringSteeringBrakingBrakingSteeringBrakingSteeringSteeringBrakingBrakingBrakingBrakingSteeringSteeringSteeringSteeringSteeringSteeringSteeringSteeringSteeringSteeringBrakingSteeringSteeringSteeringSteeringSteeringSteeringSteeringSteeringSteeringBrakingBrakingBrakingBrakingSteeringSteeringSteeringSteeringSteeringSteeringSteeringSteeringSteeringSteeringSteeringBrakingBrakingBrakingSteeringSteeringBrakingSteeringSteeringSteeringSteeringSteeringSteeringSteeringSteeringSteeringSteeringBrakingBrakingSteeringBrakingSteeringSteeringSteeringSteeringSteeringBrakingSteeringSteeringSteeringBrakingSteeringSteeringBrakingSteeringBrakingSteeringSteeringBrakingSteeringSteeringSteeringBrakingSteeringSteeringSteeringSteeringBrakingSteeringBrakingBrakingSteeringBrakingSteeringSteeringSteeringSteeringSteeringSteeringSteeringSteeringSteeringSteeringSteeringSteeringSteeringSteeringSteeringBrakingSteeringSteeringSteeringBrakingBrakingBrakingSteeringSteeringSteeringBrakingSteeringSteeringSteeringSteeringSteeringSteeringBrakingSteeringSteeringBrakingSteeringSteeringBrakingSteeringSteeringBrakingSteeringSteeringSteeringSteeringBrakingSteeringSteeringSteeringSteeringSteeringSteeringSteeringSteeringSteeringSteeringBrakingSteeringSteeringSteeringSteeringSteeringSteeringSteeringSteeringSteeringSteeringSteeringSteeringSteeringSteeringSteeringSteeringSteeringSteeringSteeringSteeringSteeringSteeringSteeringSteeringSteeringSteeringSteeringBrakingSteeringBrakingSteeringSteeringSteeringSteeringSteeringSteeringSteeringBrakingSteeringSteeringSteeringSteeringSteeringSteeringSteeringSteeringSteeringSteeringSteeringBrakingSteeringBrakingSteeringSteeringSteeringSteeringSteeringSteeringSteeringSteeringSteeringSteeringSteeringSteeringSteeringSteeringSteeringSteeringSteeringSteeringSteeringSteeringSteeringBrakingBrakingSteeringSteeringSteeringSteeringSteeringBrakingSteeringSteeringSteeringSteeringSteeringSteeringSteeringSteeringSteeringSteeringSteeringBrakingSteeringSteeringSteeringSteeringSteeringSteeringSteeringSteeringSteeringSteeringSteeringSteeringSteeringSteeringBrakingSteeringSteeringSteeringSteeringBrakingSteeringSteeringSteeringSteeringSteeringSteeringSteeringBrakingSteeringBrakingSteeringSteeringSteeringSteeringSteeringBrakingSteeringSteeringSteeringBrakingSteeringSteeringSteeringSteeringSteeringSteeringSteeringBrakingSteeringSteeringSteeringSteeringSteeringSteeringSteeringSteeringSteeringSteeringSteeringSteeringSteeringBrakingSteeringSteeringSteeringSteeringSteeringSteeringSteeringSteeringSteeringBrakingSteeringSteeringSteeringSteeringSteeringSteeringSteeringSteeringSteeringSteeringSteeringSteeringSteeringSteeringSteeringSteeringSteeringSteeringSteeringSteeringSteeringSteeringSteeringSteeringSteeringSteeringSteeringSteeringSteeringSteeringSteeringSteeringSteeringSteeringSteeringSteeringSteeringSteeringSteeringSteeringSteeringSteeringBrakingSteeringSteeringSteeringSteeringBrakingSteeringSteeringSteeringSteeringSteeringSteeringSteeringSteeringSteeringSteeringSteeringBrakingSteeringBrakingSteeringBrakingSteeringSteeringSteeringSteeringSteeringSteeringSteeringSteeringSteeringSteeringSteeringBrakingSteeringBrakingSteeringSteeringSteeringSteeringSteeringBrakingSteeringSteeringSteeringBrakingSteeringSteeringSteeringSteeringSteeringSteeringSteeringSteeringSteeringSteeringBrakingBrakingSteeringSteeringSteeringSteeringSteeringBrakingSteeringSteeringSteeringSteeringSteeringSteeringSteeringSteeringSteeringSteeringSteeringBrakingSteeringBrakingBrakingBrakingSteeringBrakingBrakingSteeringSteeringSteeringBrakingSteeringSteeringBrakingSteeringSteeringSteeringSteeringBrakingBrakingBrakingBrakingSteeringSteeringSteeringSteeringSteeringSteeringSteeringSteeringBrakingSteeringSteeringSteeringSteeringSteeringSteeringSteeringSteeringSteeringSteeringBrakingBrakingBrakingSteeringBrakingBrakingBrakingSteeringSteeringSteeringSteeringBrakingSteeringSteeringSteeringBrakingSteeringSteeringSteeringSteeringSteeringSteeringSteeringSteeringBrakingSteeringSteeringSteeringSteeringSteeringSteeringSteeringSteeringSteeringSteeringSteeringSteeringSteeringSteeringBrakingSteeringSteeringBrakingBrakingBrakingBrakingSteeringSteeringSteeringSteeringBrakingSteeringSteeringBrakingBrakingSteeringBrakingSteeringBrakingSteeringSteeringSteeringSteeringSteeringSteeringSteeringSteeringSteeringSteeringSteeringSteeringBrakingSteeringBrakingSteeringBrakingBrakingSteeringSteeringSteeringSteeringSteeringSteeringBrakingBrakingSteeringBrakingBrakingSteeringSteeringSteeringSteeringSteeringSteeringSteeringSteeringBrakingBrakingBrakingBrakingBrakingBrakingSteeringSteeringSteeringSteeringSteeringBrakingSteeringBrakingSteeringSteeringSteeringSteeringSteeringSteeringSteeringSteeringSteeringSteeringBrakingSteeringBrakingSteeringSteeringSteeringSteeringSteeringSteeringBrakingSteeringSteeringBrakingBrakingBrakingSteeringSteeringSteeringSteeringSteeringSteeringSteeringSteeringSteeringSteeringSteeringSteeringSteeringBrakingBrakingSteeringSteeringSteeringSteeringBrakingSteeringBrakingBrakingSteeringSteeringBrakingSteeringBrakingBrakingSteeringSteeringSteeringSteeringSteeringSteeringSteeringBrakingBrakingBrakingSteeringSteeringBrakingBrakingSteeringSteeringSteeringSteeringSteeringSteeringSteeringSteeringSteeringSteeringSteeringSteeringSteeringSteeringSteeringSteeringSteeringSteeringSteeringSteeringSteeringSteeringBrakingSteeringSteeringSteeringSteeringSteeringSteeringSteeringSteeringBrakingSteeringSteeringSteeringSteeringSteeringSteeringBrakingSteeringSteeringSteeringSteeringSteeringBrakingSteeringSteeringSteeringSteeringSteeringBrakingSteeringSteeringSteeringSteeringSteeringSteeringSteeringSteeringSteeringSteeringSteeringBrakingSteeringSteeringSteeringSteeringSteeringBrakingSteeringBrakingSteeringSteeringBrakingSteeringSteeringBrakingSteeringSteeringBrakingSteeringSteeringBrakingSteeringBrakingSteeringSteeringSteeringSteeringSteeringSteeringBrakingSteeringBrakingSteeringSteeringSteeringSteeringSteeringSteeringSteeringSteeringSteeringSteeringBrakingSteeringSteeringSteeringSteeringSteeringSteeringSteeringSteeringSteeringSteeringSteeringSteeringSteeringSteeringSteeringSteeringSteeringSteeringSteeringSteeringSteeringSteeringSteeringSteeringSteeringSteeringSteeringSteeringSteeringSteeringSteeringSteeringSteeringSteeringSteeringSteeringSteeringSteeringSteeringSteeringSteeringSteeringSteeringSteeringBrakingSteeringBrakingSteeringSteeringSteeringSteeringSteeringSteeringSteeringBrakingBrakingBrakingBrakingBrakingBrakingBrakingBrakingSteeringBrakingBrakingSteeringBrakingBrakingSteeringSteeringSteeringBrakingSteeringSteeringBrakingSteeringSteeringBrakingSteeringSteeringSteeringSteeringSteeringSteeringSteeringBrakingSteeringSteeringSteeringBrakingSteeringSteeringSteeringBrakingSteeringSteeringBrakingSteeringBrakingSteeringSteeringSteeringBrakingSteeringSteeringSteeringBrakingBrakingSteeringBrakingBrakingSteeringSteeringBrakingBrakingBrakingSteeringSteeringBrakingBrakingSteeringSteeringSteeringSteeringBrakingSteeringSteeringSteeringSteeringSteeringSteeringSteeringSteeringSteeringBrakingSteeringSteeringSteeringBrakingSteeringBrakingSteeringSteeringBrakingSteeringSteeringSteeringSteeringSteeringSteeringBrakingSteeringBrakingBrakingSteeringBrakingBrakingSteeringBrakingSteeringSteeringSteeringSteeringBrakingBrakingSteeringBrakingSteeringSteeringSteeringSteeringSteeringBrakingBrakingBrakingSteeringSteeringSteeringSteeringSteeringBrakingSteeringSteeringSteeringSteeringSteeringSteeringBrakingSteeringSteeringBrakingSteeringBrakingSteeringSteeringSteeringSteeringBrakingSteeringSteeringBrakingSteeringBrakingSteeringSteeringSteeringSteeringSteeringSteeringBrakingSteeringBrakingSteeringSteeringSteeringBrakingSteeringBrakingSteeringSteeringBrakingSteeringBrakingBrakingSteeringSteeringSteeringSteeringBrakingBrakingBrakingBrakingBrakingBrakingBrakingBrakingSteeringSteeringSteeringBrakingBrakingBrakingSteeringSteeringSteeringSteeringSteeringBrakingSteeringSteeringSteeringSteeringBrakingSteeringBrakingBrakingSteeringBrakingSteeringSteeringBrakingBrakingSteeringSteeringSteeringSteeringSteeringSteeringSteeringSteeringSteeringSteeringSteeringSteeringSteeringSteeringSteeringSteeringSteeringSteeringSteeringSteeringSteeringSteeringSteeringSteeringSteeringSteeringSteeringSteeringSteeringSteeringSteeringSteeringSteeringSteeringSteeringSteeringSteeringSteeringSteeringSteeringBrakingSteeringSteeringSteeringSteeringSteeringSteeringSteeringSteeringSteeringSteeringSteeringSteeringSteeringSteeringSteeringSteeringSteeringSteeringSteeringSteeringSteeringSteeringBrakingSteeringSteeringSteeringSteeringSteeringSteeringBrakingSteeringSteeringSteeringSteeringSteeringBrakingSteeringSteeringSteeringSteeringSteeringBrakingSteeringSteeringBrakingBrakingSteeringBrakingBrakingSteeringBrakingSteeringBrakingSteeringBrakingSteeringSteeringSteeringSteeringSteeringBrakingBrakingBrakingSteeringBrakingBrakingBrakingSteeringSteeringSteeringSteeringSteeringBrakingSteeringSteeringSteeringSteeringSteeringSteeringSteeringBrakingSteeringSteeringBrakingSteeringSteeringBrakingBrakingSteeringSteeringSteeringSteeringSteeringSteeringSteeringSteeringSteeringBrakingSteeringSteeringBrakingSteeringSteeringSteeringSteeringSteeringSteeringSteeringSteeringSteeringSteeringSteeringSteeringSteeringBrakingSteeringSteeringSteeringBrakingBrakingSteeringBrakingBrakingSteeringSteeringBrakingBrakingSteeringBrakingBrakingSteeringSteeringBrakingSteeringBrakingSteeringSteeringSteeringSteeringBrakingBrakingSteeringBrakingSteeringBrakingSteeringBrakingSteeringSteeringBrakingSteeringSteeringSteeringSteeringSteeringSteeringSteeringSteeringSteeringSteeringBrakingBrakingBrakingSteeringSteeringSteeringSteeringSteeringSteeringSteeringSteeringSteeringSteeringSteeringSteeringSteeringSteeringSteeringSteeringSteeringBrakingSteeringBrakingSteeringSteeringSteeringSteeringSteeringSteeringBrakingSteeringSteeringBrakingSteeringSteeringSteeringSteeringSteeringSteeringSteeringSteeringBrakingSteeringSteeringSteeringSteeringSteeringSteeringBrakingSteeringBrakingBrakingSteeringSteeringSteeringSteeringSteeringBrakingSteeringSteeringSteeringSteeringBrakingSteeringSteeringBrakingSteeringSteeringBrakingSteeringSteeringBrakingBrakingSteeringSteeringBrakingSteeringSteeringSteeringSteeringBrakingSteeringSteeringSteeringBrakingSteeringSteeringSteeringSteeringSteeringSteeringSteeringSteeringBrakingSteeringBrakingSteeringSteeringSteeringSteeringSteeringSteeringBrakingSteeringSteeringSteeringBrakingSteeringSteeringSteeringSteeringSteeringSteeringBrakingSteeringSteeringSteeringSteeringBrakingSteeringSteeringSteeringSteeringSteeringBrakingSteeringSteeringSteeringSteeringBrakingBrakingBrakingSteeringSteeringSteeringSteeringSteeringSteeringSteeringSteeringSteeringSteeringSteeringSteeringSteeringSteeringSteeringSteeringBrakingSteeringSteeringSteeringSteeringSteeringSteeringBrakingSteeringBrakingBrakingBrakingBrakingSteeringSteeringSteeringSteeringSteeringSteeringBrakingBrakingSteeringSteeringSteeringSteeringSteeringSteeringSteeringSteeringSteeringSteeringSteeringSteeringBrakingBrakingSteeringBrakingSteeringSteeringSteeringSteeringSteeringSteeringBrakingSteeringSteeringSteeringSteeringSteeringSteeringSteeringBrakingBrakingBrakingBrakingSteeringSteeringSteeringSteeringSteeringSteeringBrakingSteeringBrakingBrakingSteeringSteeringSteeringBrakingBrakingSteeringSteeringBrakingSteeringSteeringSteeringSteeringSteeringSteeringSteeringSteeringSteeringBrakingSteeringSteeringSteeringSteeringBrakingSteeringSteeringSteeringSteeringSteeringBrakingSteeringSteeringSteeringBrakingSteeringSteeringSteeringSteeringSteeringSteeringSteeringSteeringSteeringBrakingSteeringSteeringSteeringSteeringSteeringBrakingSteeringSteeringSteeringSteeringSteeringSteeringBrakingBrakingSteeringSteeringSteeringSteeringBrakingBrakingBrakingSteeringBrakingSteeringSteeringSteeringSteeringBrakingSteeringSteeringSteeringSteeringBrakingBrakingSteeringSteeringBrakingBrakingBrakingSteeringSteeringSteeringSteeringSteeringSteeringSteeringSteeringSteeringSteeringSteeringSteeringSteeringSteeringBrakingSteeringSteeringSteeringSteeringSteeringSteeringSteeringSteeringSteeringSteeringBrakingSteeringSteeringSteeringSteeringBrakingSteeringSteeringSteeringSteeringBrakingSteeringSteeringSteeringSteeringBrakingSteeringSteeringSteeringSteeringBrakingSteeringSteeringSteeringBrakingSteeringBrakingSteeringSteeringBrakingBrakingBrakingSteeringSteeringSteeringBrakingSteeringBrakingSteeringSteeringSteeringSteeringBrakingBrakingBrakingBrakingBrakingSteeringBrakingSteeringSteeringSteeringSteeringSteeringSteeringSteeringSteeringBrakingBrakingSteeringSteeringBrakingBrakingBrakingSteeringSteeringSteeringBrakingSteeringSteeringBrakingBrakingSteeringSteeringSteeringBrakingSteeringSteeringBrakingSteeringSteeringSteeringBrakingBrakingSteeringBrakingBrakingSteeringBrakingSteeringSteeringBrakingBrakingSteeringSteeringSteeringBrakingSteeringBrakingBrakingSteeringSteeringSteeringSteeringSteeringSteeringSteeringBrakingSteeringSteeringSteeringSteeringBrakingBrakingSteeringSteeringBrakingSteeringSteeringBrakingSteeringSteeringBrakingSteeringSteeringSteeringSteeringSteeringSteeringSteeringSteeringSteeringSteeringSteeringSteeringSteeringSteeringSteeringSteeringSteeringSteeringSteeringSteeringSteeringSteeringBrakingSteeringSteeringSteeringBrakingSteeringSteeringSteeringSteeringSteeringSteeringSteeringSteeringSteeringSteeringSteeringSteeringBrakingSteeringSteeringSteeringSteeringSteeringSteeringSteeringSteeringSteeringSteeringSteeringBrakingSteeringSteeringSteeringBrakingSteeringSteeringSteeringSteeringSteeringBrakingSteeringSteeringSteeringSteeringSteeringSteeringSteeringSteeringSteeringSteeringSteeringBrakingSteeringSteeringSteeringBrakingSteeringBrakingBrakingSteeringSteeringBrakingBrakingSteeringSteeringSteeringSteeringBrakingBrakingSteeringSteeringSteeringSteeringSteeringBrakingBrakingBrakingBrakingSteeringSteeringSteeringSteeringSteeringSteeringSteeringSteeringSteeringBrakingSteeringSteeringSteeringSteeringSteeringSteeringSteeringBrakingSteeringSteeringSteeringSteeringSteeringBrakingSteeringBrakingSteeringSteeringBrakingSteeringSteeringSteeringBrakingSteeringBrakingBrakingBrakingSteeringSteeringSteeringBrakingBrakingBrakingBrakingSteeringSteeringSteeringBrakingBrakingBrakingSteeringBrakingBrakingBrakingBrakingSteeringBrakingSteeringSteeringSteeringSteeringSteeringSteeringBrakingSteeringBrakingBrakingBrakingBrakingBrakingBrakingBrakingSteeringBrakingSteeringSteeringBrakingSteeringSteeringSteeringBrakingBrakingSteeringSteeringBrakingSteeringBrakingSteeringSteeringSteeringSteeringSteeringSteeringSteeringSteeringSteeringSteeringSteeringBrakingSteeringBrakingSteeringSteeringSteeringSteeringSteeringBrakingSteeringSteeringSteeringSteeringSteeringSteeringSteeringSteeringSteeringBrakingSteeringSteeringSteeringSteeringSteeringSteeringSteeringBrakingSteeringSteeringBrakingSteeringSteeringSteeringBrakingSteeringBrakingBrakingSteeringSteeringBrakingSteeringSteeringBrakingSteeringSteeringBrakingSteeringBrakingBrakingSteeringBrakingBrakingBrakingBrakingBrakingBrakingBrakingBrakingSteeringBrakingBrakingBrakingBrakingSteeringSteeringBrakingBrakingSteeringSteeringBrakingBrakingSteeringSteeringBrakingBrakingSteeringSteeringSteeringSteeringSteeringBrakingSteeringBrakingSteeringSteeringSteeringSteeringSteeringSteeringSteeringSteeringSteeringBrakingSteeringSteeringSteeringSteeringSteeringSteeringBrakingBrakingSteeringSteeringSteeringBrakingBrakingBrakingSteeringBrakingSteeringSteeringSteeringSteeringBrakingSteeringSteeringSteeringSteeringSteeringSteeringSteeringSteeringSteeringSteeringBrakingSteeringSteeringSteeringBrakingBrakingBrakingBrakingSteeringSteeringBrakingBrakingBrakingSteeringSteeringSteeringSteeringSteeringSteeringSteeringSteeringSteeringSteeringBrakingSteeringSteeringSteeringSteeringSteeringSteeringSteeringBrakingSteeringSteeringSteeringSteeringSteeringSteeringSteeringBrakingSteeringSteeringSteeringBrakingBrakingSteeringBrakingBrakingBrakingSteeringBrakingBrakingBrakingBrakingSteeringBrakingSteeringSteeringSteeringSteeringSteeringSteeringSteeringSteeringSteeringSteeringSteeringSteeringSteeringSteeringSteeringSteeringSteeringSteeringSteeringSteeringSteeringSteeringSteeringSteeringSteeringSteeringSteeringSteeringBrakingBrakingSteeringBrakingSteeringBrakingSteeringBrakingSteeringSteeringSteeringSteeringSteeringSteeringSteeringSteeringSteeringBrakingSteeringSteeringBrakingSteeringSteeringSteeringSteeringBrakingBrakingBrakingBrakingSteeringSteeringSteeringSteeringBrakingSteeringSteeringSteeringSteeringBrakingSteeringSteeringBrakingSteeringSteeringSteeringSteeringSteeringSteeringSteeringSteeringSteeringSteeringSteeringSteeringSteeringSteeringSteeringSteeringBrakingSteeringSteeringSteeringSteeringSteeringSteeringSteeringSteeringSteeringSteeringSteeringSteeringSteeringBrakingSteeringSteeringSteeringSteeringSteeringSteeringSteeringSteeringSteeringSteeringSteering to numeric"
     ]
    }
   ],
   "source": [
    "#Step 2 Group/cluster Xacc, Yacc, Classification\n",
    "# Group or cluster 'x-acceleration' within the location clusters\n",
    "ddb['x_acc_cluster'] = ddb.groupby('location_cluster')['xacc'].transform('mean')\n",
    "\n",
    "# Group or cluster 'y-acceleration' within the location clusters\n",
    "ddb['y_acc_cluster'] = ddb.groupby('location_cluster')['yacc'].transform('mean')\n",
    "\n",
    "# Group or cluster 'classification' within the location clusters (you can use other aggregation functions)\n",
    "ddb['classification_cluster'] = ddb.groupby('location_cluster')['classification'].transform('mean')"
   ]
  },
  {
   "cell_type": "code",
   "execution_count": 67,
   "metadata": {},
   "outputs": [],
   "source": [
    "#Step 3 Create empty graph\n",
    "G = nx.Graph()"
   ]
  },
  {
   "cell_type": "code",
   "execution_count": null,
   "metadata": {},
   "outputs": [],
   "source": [
    "#Step 4 Add nodes to graph based on location clusters\n",
    "for cluster_label in ddb['location_cluster'].unique():\n",
    "    G.add_node(f'LocationCluster{cluster_label}')"
   ]
  },
  {
   "cell_type": "code",
   "execution_count": null,
   "metadata": {},
   "outputs": [],
   "source": [
    "#Step 5"
   ]
  },
  {
   "cell_type": "code",
   "execution_count": null,
   "metadata": {},
   "outputs": [],
   "source": [
    "#Step 6 - Show Graph"
   ]
  },
  {
   "cell_type": "markdown",
   "metadata": {},
   "source": [
    "steps: (option 2)\n",
    "1. "
   ]
  }
 ],
 "metadata": {
  "kernelspec": {
   "display_name": "Python 3",
   "language": "python",
   "name": "python3"
  },
  "language_info": {
   "codemirror_mode": {
    "name": "ipython",
    "version": 3
   },
   "file_extension": ".py",
   "mimetype": "text/x-python",
   "name": "python",
   "nbconvert_exporter": "python",
   "pygments_lexer": "ipython3",
   "version": "3.10.6"
  },
  "orig_nbformat": 4
 },
 "nbformat": 4,
 "nbformat_minor": 2
}
